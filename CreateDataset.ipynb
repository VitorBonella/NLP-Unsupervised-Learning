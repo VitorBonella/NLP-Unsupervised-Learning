{
 "cells": [
  {
   "cell_type": "markdown",
   "source": [
    "# Processamento dos Dados"
   ],
   "metadata": {
    "collapsed": false,
    "pycharm": {
     "name": "#%% md\n"
    }
   }
  },
  {
   "cell_type": "code",
   "execution_count": 1,
   "outputs": [],
   "source": [
    "import json\n",
    "import glob"
   ],
   "metadata": {
    "collapsed": false,
    "pycharm": {
     "name": "#%%\n"
    }
   }
  },
  {
   "cell_type": "markdown",
   "source": [
    "Descobrindo a lista de arquivos"
   ],
   "metadata": {
    "collapsed": false,
    "pycharm": {
     "name": "#%% md\n"
    }
   }
  },
  {
   "cell_type": "code",
   "execution_count": 2,
   "outputs": [
    {
     "data": {
      "text/plain": "[]"
     },
     "execution_count": 2,
     "metadata": {},
     "output_type": "execute_result"
    }
   ],
   "source": [
    "data = list()\n",
    "files = glob.glob(\"data/*\")\n",
    "files = [f.replace(\"\\\\\", \"/\") for f in files]\n",
    "files"
   ],
   "metadata": {
    "collapsed": false,
    "pycharm": {
     "name": "#%%\n"
    }
   }
  },
  {
   "cell_type": "markdown",
   "source": [
    "Descobrindo os generos literarios"
   ],
   "metadata": {
    "collapsed": false,
    "pycharm": {
     "name": "#%% md\n"
    }
   }
  },
  {
   "cell_type": "code",
   "execution_count": 3,
   "outputs": [
    {
     "data": {
      "text/plain": "[]"
     },
     "execution_count": 3,
     "metadata": {},
     "output_type": "execute_result"
    }
   ],
   "source": [
    "def find_genre(path:str):\n",
    "    g = path.replace('data/goodreads_books_', '')\n",
    "    g = g.replace('.json', '')\n",
    "    return g\n",
    "\n",
    "genres = [find_genre(f) for f in files]\n",
    "genres"
   ],
   "metadata": {
    "collapsed": false,
    "pycharm": {
     "name": "#%%\n"
    }
   }
  },
  {
   "cell_type": "markdown",
   "source": [
    "Carregando json na memoria e formatando eles para apenas o necessario, fazendo trativas como o livros estar em ingles e\n",
    "ter uma descrição"
   ],
   "metadata": {
    "collapsed": false,
    "pycharm": {
     "name": "#%% md\n"
    }
   }
  },
  {
   "cell_type": "code",
   "execution_count": 4,
   "outputs": [
    {
     "data": {
      "text/plain": "[]"
     },
     "execution_count": 4,
     "metadata": {},
     "output_type": "execute_result"
    }
   ],
   "source": [
    "def read_good_books(data, genre) -> list:\n",
    "    lang = ['en', 'eng', 'en-GB', 'en-US', 'en-CA']\n",
    "    fields = ['language_code', 'book_id', 'description']\n",
    "    selected_books = list()\n",
    "    for book in data:\n",
    "        if book['language_code'] in lang and book['description'] != '':\n",
    "            bk = {fld:book[fld] for fld in fields}\n",
    "            bk.update({'genre': genre})\n",
    "            selected_books.append(bk)\n",
    "    del data\n",
    "    return selected_books\n",
    "\n",
    "\n",
    "file_with_genre = zip(files,genres)\n",
    "\n",
    "books = []\n",
    "for file,genre in file_with_genre:\n",
    "    data = list()\n",
    "    print(\"Iniciando leitura de {}\".format(file))\n",
    "    with open(file) as f:\n",
    "        for line in f:\n",
    "            data.append(json.loads(line))\n",
    "        f.close()\n",
    "    books.extend(read_good_books(data,genre))\n",
    "    print(\"Leitura de {} Finalizada\".format(file))\n",
    "\n",
    "\n",
    "books"
   ],
   "metadata": {
    "collapsed": false,
    "pycharm": {
     "name": "#%%\n"
    }
   }
  },
  {
   "cell_type": "code",
   "execution_count": 5,
   "outputs": [],
   "source": [
    "with open(\"goodreads_books.json\",\"w\") as f:\n",
    "    json.dump(books, fp=f, sort_keys=True, indent=4)\n",
    "    f.close()"
   ],
   "metadata": {
    "collapsed": false,
    "pycharm": {
     "name": "#%%\n"
    }
   }
  }
 ],
 "metadata": {
  "kernelspec": {
   "display_name": "Python 3",
   "language": "python",
   "name": "python3"
  },
  "language_info": {
   "codemirror_mode": {
    "name": "ipython",
    "version": 2
   },
   "file_extension": ".py",
   "mimetype": "text/x-python",
   "name": "python",
   "nbconvert_exporter": "python",
   "pygments_lexer": "ipython2",
   "version": "2.7.6"
  }
 },
 "nbformat": 4,
 "nbformat_minor": 0
}
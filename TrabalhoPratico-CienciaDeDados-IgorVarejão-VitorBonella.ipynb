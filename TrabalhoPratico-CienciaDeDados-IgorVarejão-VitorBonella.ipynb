{
 "cells": [
  {
   "cell_type": "markdown",
   "metadata": {
    "collapsed": true,
    "pycharm": {
     "name": "#%% md\n"
    }
   },
   "source": [
    "# Pré-processamento dos dados textuais\n",
    "\n",
    "## Transformando os dados em um dataset"
   ]
  },
  {
   "cell_type": "code",
   "execution_count": 33,
   "outputs": [],
   "source": [
    "import pandas as pd"
   ],
   "metadata": {
    "collapsed": false,
    "pycharm": {
     "name": "#%%\n"
    }
   }
  },
  {
   "cell_type": "code",
   "execution_count": 34,
   "outputs": [
    {
     "data": {
      "text/plain": "         book_id                                        description  \\\n111193   7036848  Kobato's mission to fill up her magic bottle m...   \n44939   23167768  Araminta Ross was born a slave in Delaware in ...   \n334762   8245230  Learning that her mother, whom she had thought...   \n21654    3823823  Meet the World's Funniest Kindergartner --Juni...   \n116885  25756018  Sharakhai, the great city of the desert, cente...   \n323533  15808340  As thirty-fifth in line for the throne, Lady G...   \n465818  25626525  I'm Harlow Evans. Shortly after my parents wer...   \n344283    920431  The Gulf War is imminent and there's something...   \n616716  28380088  Lia and Rafe have escaped Venda and the path b...   \n293585  22709633  Gifted with the magical ability of song, young...   \n\n                         genre language_code  \n111193      fantasy_paranormal           eng  \n44939           comics_graphic           eng  \n334762  mystery_thriller_crime           eng  \n21654                 children           eng  \n116885      fantasy_paranormal           eng  \n323533  mystery_thriller_crime           eng  \n465818                 romance         en-US  \n344283  mystery_thriller_crime         en-GB  \n616716             young_adult           eng  \n293585       history_biography           eng  ",
      "text/html": "<div>\n<style scoped>\n    .dataframe tbody tr th:only-of-type {\n        vertical-align: middle;\n    }\n\n    .dataframe tbody tr th {\n        vertical-align: top;\n    }\n\n    .dataframe thead th {\n        text-align: right;\n    }\n</style>\n<table border=\"1\" class=\"dataframe\">\n  <thead>\n    <tr style=\"text-align: right;\">\n      <th></th>\n      <th>book_id</th>\n      <th>description</th>\n      <th>genre</th>\n      <th>language_code</th>\n    </tr>\n  </thead>\n  <tbody>\n    <tr>\n      <th>111193</th>\n      <td>7036848</td>\n      <td>Kobato's mission to fill up her magic bottle m...</td>\n      <td>fantasy_paranormal</td>\n      <td>eng</td>\n    </tr>\n    <tr>\n      <th>44939</th>\n      <td>23167768</td>\n      <td>Araminta Ross was born a slave in Delaware in ...</td>\n      <td>comics_graphic</td>\n      <td>eng</td>\n    </tr>\n    <tr>\n      <th>334762</th>\n      <td>8245230</td>\n      <td>Learning that her mother, whom she had thought...</td>\n      <td>mystery_thriller_crime</td>\n      <td>eng</td>\n    </tr>\n    <tr>\n      <th>21654</th>\n      <td>3823823</td>\n      <td>Meet the World's Funniest Kindergartner --Juni...</td>\n      <td>children</td>\n      <td>eng</td>\n    </tr>\n    <tr>\n      <th>116885</th>\n      <td>25756018</td>\n      <td>Sharakhai, the great city of the desert, cente...</td>\n      <td>fantasy_paranormal</td>\n      <td>eng</td>\n    </tr>\n    <tr>\n      <th>323533</th>\n      <td>15808340</td>\n      <td>As thirty-fifth in line for the throne, Lady G...</td>\n      <td>mystery_thriller_crime</td>\n      <td>eng</td>\n    </tr>\n    <tr>\n      <th>465818</th>\n      <td>25626525</td>\n      <td>I'm Harlow Evans. Shortly after my parents wer...</td>\n      <td>romance</td>\n      <td>en-US</td>\n    </tr>\n    <tr>\n      <th>344283</th>\n      <td>920431</td>\n      <td>The Gulf War is imminent and there's something...</td>\n      <td>mystery_thriller_crime</td>\n      <td>en-GB</td>\n    </tr>\n    <tr>\n      <th>616716</th>\n      <td>28380088</td>\n      <td>Lia and Rafe have escaped Venda and the path b...</td>\n      <td>young_adult</td>\n      <td>eng</td>\n    </tr>\n    <tr>\n      <th>293585</th>\n      <td>22709633</td>\n      <td>Gifted with the magical ability of song, young...</td>\n      <td>history_biography</td>\n      <td>eng</td>\n    </tr>\n  </tbody>\n</table>\n</div>"
     },
     "execution_count": 34,
     "metadata": {},
     "output_type": "execute_result"
    }
   ],
   "source": [
    "df = pd.read_json('goodreads_books.json')\n",
    "df_mini = df.sample(n=10)\n",
    "df_mini"
   ],
   "metadata": {
    "collapsed": false,
    "pycharm": {
     "name": "#%%\n"
    }
   }
  },
  {
   "cell_type": "markdown",
   "source": [
    "## Limpeza dos dados"
   ],
   "metadata": {
    "collapsed": false,
    "pycharm": {
     "name": "#%% md\n"
    }
   }
  },
  {
   "cell_type": "code",
   "source": [
    "!pip install unidecode"
   ],
   "metadata": {
    "collapsed": false,
    "pycharm": {
     "name": "#%%\n"
    }
   },
   "execution_count": 35,
   "outputs": [
    {
     "name": "stdout",
     "output_type": "stream",
     "text": [
      "Requirement already satisfied: unidecode in c:\\users\\vitor\\appdata\\local\\programs\\python\\python38\\lib\\site-packages (1.2.0)"
     ]
    },
    {
     "name": "stderr",
     "output_type": "stream",
     "text": [
      "WARNING: Ignoring invalid distribution -illow (c:\\users\\vitor\\appdata\\local\\programs\\python\\python38\\lib\\site-packages)\n",
      "WARNING: Ignoring invalid distribution -illow (c:\\users\\vitor\\appdata\\local\\programs\\python\\python38\\lib\\site-packages)\n",
      "WARNING: Ignoring invalid distribution -illow (c:\\users\\vitor\\appdata\\local\\programs\\python\\python38\\lib\\site-packages)\n",
      "WARNING: Ignoring invalid distribution -illow (c:\\users\\vitor\\appdata\\local\\programs\\python\\python38\\lib\\site-packages)\n",
      "WARNING: Ignoring invalid distribution -illow (c:\\users\\vitor\\appdata\\local\\programs\\python\\python38\\lib\\site-packages)\n",
      "WARNING: Ignoring invalid distribution -illow (c:\\users\\vitor\\appdata\\local\\programs\\python\\python38\\lib\\site-packages)\n",
      "WARNING: You are using pip version 21.1.1; however, version 21.3.1 is available.\n",
      "You should consider upgrading via the 'c:\\users\\vitor\\appdata\\local\\programs\\python\\python38\\python.exe -m pip install --upgrade pip' command.\n"
     ]
    },
    {
     "name": "stdout",
     "output_type": "stream",
     "text": [
      "\n"
     ]
    }
   ]
  },
  {
   "cell_type": "code",
   "execution_count": 36,
   "outputs": [],
   "source": [
    "import nltk\n",
    "import unidecode\n",
    "import string\n",
    "from nltk import word_tokenize\n",
    "from nltk.corpus import stopwords"
   ],
   "metadata": {
    "collapsed": false,
    "pycharm": {
     "name": "#%%\n"
    }
   }
  },
  {
   "cell_type": "code",
   "execution_count": 37,
   "outputs": [],
   "source": [
    "def remove_specials(tokens):\n",
    "    return [unidecode.unidecode(word) for word in tokens]"
   ],
   "metadata": {
    "collapsed": false,
    "pycharm": {
     "name": "#%%\n"
    }
   }
  },
  {
   "cell_type": "code",
   "execution_count": 38,
   "outputs": [],
   "source": [
    "def remove_punctuation(tokens):\n",
    "    table = str.maketrans(\"\",\"\",string.punctuation)\n",
    "    return [w.translate(table) for w in tokens]"
   ],
   "metadata": {
    "collapsed": false,
    "pycharm": {
     "name": "#%%\n"
    }
   }
  },
  {
   "cell_type": "code",
   "execution_count": 39,
   "outputs": [],
   "source": [
    "def array_lower(tokens):\n",
    "    return [w.lower() for w in tokens]"
   ],
   "metadata": {
    "collapsed": false,
    "pycharm": {
     "name": "#%%\n"
    }
   }
  },
  {
   "cell_type": "code",
   "execution_count": 40,
   "outputs": [],
   "source": [
    "def remove_no_words(tokens):\n",
    "    return [word for word in tokens if word.isalpha()]"
   ],
   "metadata": {
    "collapsed": false,
    "pycharm": {
     "name": "#%%\n"
    }
   }
  },
  {
   "cell_type": "code",
   "execution_count": 41,
   "outputs": [],
   "source": [
    "def remove_stop_words(tokens):\n",
    "    stop_words = set(stopwords.words('english'))\n",
    "    return [w for w in tokens if not w in stop_words]"
   ],
   "metadata": {
    "collapsed": false,
    "pycharm": {
     "name": "#%%\n"
    }
   }
  },
  {
   "cell_type": "code",
   "execution_count": 42,
   "outputs": [],
   "source": [
    "def text_clean(df_text_column):\n",
    "    # Dividindo texto em tokens\n",
    "    df_text_column = df_text_column.apply(word_tokenize)\n",
    "\n",
    "    # Convertendo texto para minusculo\n",
    "    df_text_column = df_text_column.apply(array_lower)\n",
    "\n",
    "    # Removendo pontuação\n",
    "    df_text_column = df_text_column.apply(remove_punctuation)\n",
    "\n",
    "    # Removendo caracteres especiais\n",
    "    df_text_column = df_text_column.apply(remove_specials)\n",
    "\n",
    "    # Removendo tokens que não sao palavras\n",
    "    df_text_column = df_text_column.apply(remove_no_words)\n",
    "\n",
    "    # Removendo tokens que são stop words\n",
    "    df_text_column = df_text_column.apply(remove_stop_words)\n",
    "\n",
    "    return df_text_column\n"
   ],
   "metadata": {
    "collapsed": false,
    "pycharm": {
     "name": "#%%\n"
    }
   }
  },
  {
   "cell_type": "code",
   "execution_count": 43,
   "outputs": [
    {
     "data": {
      "text/plain": "         book_id                                        description  \\\n111193   7036848  [kobato, mission, fill, magic, bottle, might, ...   \n44939   23167768  [araminta, ross, born, slave, delaware, early,...   \n334762   8245230  [learning, mother, thought, long, dead, recent...   \n21654    3823823  [meet, world, funniest, kindergartner, junie, ...   \n116885  25756018  [sharakhai, great, city, desert, center, comme...   \n323533  15808340  [thirtyfifth, line, throne, lady, georgiana, r...   \n465818  25626525  [harlow, evans, shortly, parents, murdered, mo...   \n344283    920431  [gulf, war, imminent, something, mighty, stran...   \n616716  28380088  [lia, rafe, escaped, venda, path, winding, dan...   \n293585  22709633  [gifted, magical, ability, song, young, lunora...   \n\n                         genre language_code  \n111193      fantasy_paranormal           eng  \n44939           comics_graphic           eng  \n334762  mystery_thriller_crime           eng  \n21654                 children           eng  \n116885      fantasy_paranormal           eng  \n323533  mystery_thriller_crime           eng  \n465818                 romance         en-US  \n344283  mystery_thriller_crime         en-GB  \n616716             young_adult           eng  \n293585       history_biography           eng  ",
      "text/html": "<div>\n<style scoped>\n    .dataframe tbody tr th:only-of-type {\n        vertical-align: middle;\n    }\n\n    .dataframe tbody tr th {\n        vertical-align: top;\n    }\n\n    .dataframe thead th {\n        text-align: right;\n    }\n</style>\n<table border=\"1\" class=\"dataframe\">\n  <thead>\n    <tr style=\"text-align: right;\">\n      <th></th>\n      <th>book_id</th>\n      <th>description</th>\n      <th>genre</th>\n      <th>language_code</th>\n    </tr>\n  </thead>\n  <tbody>\n    <tr>\n      <th>111193</th>\n      <td>7036848</td>\n      <td>[kobato, mission, fill, magic, bottle, might, ...</td>\n      <td>fantasy_paranormal</td>\n      <td>eng</td>\n    </tr>\n    <tr>\n      <th>44939</th>\n      <td>23167768</td>\n      <td>[araminta, ross, born, slave, delaware, early,...</td>\n      <td>comics_graphic</td>\n      <td>eng</td>\n    </tr>\n    <tr>\n      <th>334762</th>\n      <td>8245230</td>\n      <td>[learning, mother, thought, long, dead, recent...</td>\n      <td>mystery_thriller_crime</td>\n      <td>eng</td>\n    </tr>\n    <tr>\n      <th>21654</th>\n      <td>3823823</td>\n      <td>[meet, world, funniest, kindergartner, junie, ...</td>\n      <td>children</td>\n      <td>eng</td>\n    </tr>\n    <tr>\n      <th>116885</th>\n      <td>25756018</td>\n      <td>[sharakhai, great, city, desert, center, comme...</td>\n      <td>fantasy_paranormal</td>\n      <td>eng</td>\n    </tr>\n    <tr>\n      <th>323533</th>\n      <td>15808340</td>\n      <td>[thirtyfifth, line, throne, lady, georgiana, r...</td>\n      <td>mystery_thriller_crime</td>\n      <td>eng</td>\n    </tr>\n    <tr>\n      <th>465818</th>\n      <td>25626525</td>\n      <td>[harlow, evans, shortly, parents, murdered, mo...</td>\n      <td>romance</td>\n      <td>en-US</td>\n    </tr>\n    <tr>\n      <th>344283</th>\n      <td>920431</td>\n      <td>[gulf, war, imminent, something, mighty, stran...</td>\n      <td>mystery_thriller_crime</td>\n      <td>en-GB</td>\n    </tr>\n    <tr>\n      <th>616716</th>\n      <td>28380088</td>\n      <td>[lia, rafe, escaped, venda, path, winding, dan...</td>\n      <td>young_adult</td>\n      <td>eng</td>\n    </tr>\n    <tr>\n      <th>293585</th>\n      <td>22709633</td>\n      <td>[gifted, magical, ability, song, young, lunora...</td>\n      <td>history_biography</td>\n      <td>eng</td>\n    </tr>\n  </tbody>\n</table>\n</div>"
     },
     "execution_count": 43,
     "metadata": {},
     "output_type": "execute_result"
    }
   ],
   "source": [
    "df_mini['description'] = text_clean(df_mini['description'])\n",
    "df_mini"
   ],
   "metadata": {
    "collapsed": false,
    "pycharm": {
     "name": "#%%\n"
    }
   }
  }
 ],
 "metadata": {
  "kernelspec": {
   "display_name": "Python 3",
   "language": "python",
   "name": "python3"
  },
  "language_info": {
   "codemirror_mode": {
    "name": "ipython",
    "version": 2
   },
   "file_extension": ".py",
   "mimetype": "text/x-python",
   "name": "python",
   "nbconvert_exporter": "python",
   "pygments_lexer": "ipython2",
   "version": "2.7.6"
  }
 },
 "nbformat": 4,
 "nbformat_minor": 0
}
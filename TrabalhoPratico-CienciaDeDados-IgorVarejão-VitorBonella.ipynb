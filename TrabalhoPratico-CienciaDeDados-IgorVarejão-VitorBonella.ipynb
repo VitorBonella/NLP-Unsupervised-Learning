{
 "cells": [
  {
   "cell_type": "markdown",
   "metadata": {
    "collapsed": true,
    "pycharm": {
     "name": "#%% md\n"
    }
   },
   "source": [
    "# Pré-processamento dos dados textuais\n",
    "\n",
    "## Transformando os dados em um dataset"
   ]
  },
  {
   "cell_type": "code",
   "execution_count": 1,
   "metadata": {
    "pycharm": {
     "name": "#%%\n"
    }
   },
   "outputs": [],
   "source": [
    "import pandas as pd"
   ]
  },
  {
   "cell_type": "code",
   "execution_count": 2,
   "metadata": {
    "pycharm": {
     "name": "#%%\n"
    }
   },
   "outputs": [
    {
     "data": {
      "text/html": [
       "<div>\n",
       "<style scoped>\n",
       "    .dataframe tbody tr th:only-of-type {\n",
       "        vertical-align: middle;\n",
       "    }\n",
       "\n",
       "    .dataframe tbody tr th {\n",
       "        vertical-align: top;\n",
       "    }\n",
       "\n",
       "    .dataframe thead th {\n",
       "        text-align: right;\n",
       "    }\n",
       "</style>\n",
       "<table border=\"1\" class=\"dataframe\">\n",
       "  <thead>\n",
       "    <tr style=\"text-align: right;\">\n",
       "      <th></th>\n",
       "      <th>book_id</th>\n",
       "      <th>description</th>\n",
       "      <th>genre</th>\n",
       "      <th>language_code</th>\n",
       "    </tr>\n",
       "  </thead>\n",
       "  <tbody>\n",
       "    <tr>\n",
       "      <th>495332</th>\n",
       "      <td>23213961</td>\n",
       "      <td>Spn AU - Cas/Dean\\nDean Winchester never wante...</td>\n",
       "      <td>romance</td>\n",
       "      <td>eng</td>\n",
       "    </tr>\n",
       "    <tr>\n",
       "      <th>464587</th>\n",
       "      <td>29083954</td>\n",
       "      <td>She was on the run.\\nEmily Baxter has been run...</td>\n",
       "      <td>romance</td>\n",
       "      <td>eng</td>\n",
       "    </tr>\n",
       "    <tr>\n",
       "      <th>122225</th>\n",
       "      <td>20907840</td>\n",
       "      <td>An endless love, for an endless price.\\nJack's...</td>\n",
       "      <td>fantasy_paranormal</td>\n",
       "      <td>eng</td>\n",
       "    </tr>\n",
       "    <tr>\n",
       "      <th>237286</th>\n",
       "      <td>20739906</td>\n",
       "      <td>I was raised within the community of the New Z...</td>\n",
       "      <td>history_biography</td>\n",
       "      <td>eng</td>\n",
       "    </tr>\n",
       "    <tr>\n",
       "      <th>629235</th>\n",
       "      <td>16069167</td>\n",
       "      <td>Time is slipping away....\\nTella Holloway is l...</td>\n",
       "      <td>young_adult</td>\n",
       "      <td>eng</td>\n",
       "    </tr>\n",
       "    <tr>\n",
       "      <th>311289</th>\n",
       "      <td>18822103</td>\n",
       "      <td>\"...well-done and undoubtably enjoyable...\" - ...</td>\n",
       "      <td>mystery_thriller_crime</td>\n",
       "      <td>eng</td>\n",
       "    </tr>\n",
       "    <tr>\n",
       "      <th>58271</th>\n",
       "      <td>18395466</td>\n",
       "      <td>This is the first printed collection of the Wo...</td>\n",
       "      <td>comics_graphic</td>\n",
       "      <td>eng</td>\n",
       "    </tr>\n",
       "    <tr>\n",
       "      <th>513536</th>\n",
       "      <td>16109004</td>\n",
       "      <td>SKYE HIGH by LaVerne Thompson\\n\"Who knew that ...</td>\n",
       "      <td>romance</td>\n",
       "      <td>eng</td>\n",
       "    </tr>\n",
       "    <tr>\n",
       "      <th>627863</th>\n",
       "      <td>17155449</td>\n",
       "      <td>Sixteen-year-old Kara Nightingale's ordinary l...</td>\n",
       "      <td>young_adult</td>\n",
       "      <td>eng</td>\n",
       "    </tr>\n",
       "    <tr>\n",
       "      <th>265221</th>\n",
       "      <td>6554376</td>\n",
       "      <td>Weaving travel writing and historical research...</td>\n",
       "      <td>history_biography</td>\n",
       "      <td>en-GB</td>\n",
       "    </tr>\n",
       "  </tbody>\n",
       "</table>\n",
       "</div>"
      ],
      "text/plain": [
       "         book_id                                        description  \\\n",
       "495332  23213961  Spn AU - Cas/Dean\\nDean Winchester never wante...   \n",
       "464587  29083954  She was on the run.\\nEmily Baxter has been run...   \n",
       "122225  20907840  An endless love, for an endless price.\\nJack's...   \n",
       "237286  20739906  I was raised within the community of the New Z...   \n",
       "629235  16069167  Time is slipping away....\\nTella Holloway is l...   \n",
       "311289  18822103  \"...well-done and undoubtably enjoyable...\" - ...   \n",
       "58271   18395466  This is the first printed collection of the Wo...   \n",
       "513536  16109004  SKYE HIGH by LaVerne Thompson\\n\"Who knew that ...   \n",
       "627863  17155449  Sixteen-year-old Kara Nightingale's ordinary l...   \n",
       "265221   6554376  Weaving travel writing and historical research...   \n",
       "\n",
       "                         genre language_code  \n",
       "495332                 romance           eng  \n",
       "464587                 romance           eng  \n",
       "122225      fantasy_paranormal           eng  \n",
       "237286       history_biography           eng  \n",
       "629235             young_adult           eng  \n",
       "311289  mystery_thriller_crime           eng  \n",
       "58271           comics_graphic           eng  \n",
       "513536                 romance           eng  \n",
       "627863             young_adult           eng  \n",
       "265221       history_biography         en-GB  "
      ]
     },
     "execution_count": 2,
     "metadata": {},
     "output_type": "execute_result"
    }
   ],
   "source": [
    "df = pd.read_json('goodreads_books.json')\n",
    "df_mini = df.sample(n=10)\n",
    "df_mini"
   ]
  },
  {
   "cell_type": "markdown",
   "metadata": {
    "pycharm": {
     "name": "#%% md\n"
    }
   },
   "source": [
    "## Limpeza dos dados"
   ]
  },
  {
   "cell_type": "code",
   "execution_count": 3,
   "metadata": {
    "pycharm": {
     "name": "#%%\n"
    }
   },
   "outputs": [
    {
     "name": "stdout",
     "output_type": "stream",
     "text": [
      "Requirement already satisfied: unidecode in c:\\users\\vitor\\appdata\\local\\programs\\python\\python38\\lib\\site-packages (1.2.0)\n"
     ]
    },
    {
     "name": "stderr",
     "output_type": "stream",
     "text": [
      "WARNING: Ignoring invalid distribution -illow (c:\\users\\vitor\\appdata\\local\\programs\\python\\python38\\lib\\site-packages)\n",
      "WARNING: Ignoring invalid distribution -illow (c:\\users\\vitor\\appdata\\local\\programs\\python\\python38\\lib\\site-packages)\n",
      "WARNING: Ignoring invalid distribution -illow (c:\\users\\vitor\\appdata\\local\\programs\\python\\python38\\lib\\site-packages)\n",
      "WARNING: Ignoring invalid distribution -illow (c:\\users\\vitor\\appdata\\local\\programs\\python\\python38\\lib\\site-packages)\n",
      "WARNING: Ignoring invalid distribution -illow (c:\\users\\vitor\\appdata\\local\\programs\\python\\python38\\lib\\site-packages)\n",
      "WARNING: Ignoring invalid distribution -illow (c:\\users\\vitor\\appdata\\local\\programs\\python\\python38\\lib\\site-packages)\n",
      "WARNING: You are using pip version 21.1.1; however, version 22.0.2 is available.\n",
      "You should consider upgrading via the 'c:\\users\\vitor\\appdata\\local\\programs\\python\\python38\\python.exe -m pip install --upgrade pip' command.\n"
     ]
    }
   ],
   "source": [
    "%pip install unidecode"
   ]
  },
  {
   "cell_type": "code",
   "execution_count": 4,
   "metadata": {
    "pycharm": {
     "name": "#%%\n"
    }
   },
   "outputs": [],
   "source": [
    "import nltk\n",
    "import unidecode\n",
    "import string\n",
    "from nltk import word_tokenize\n",
    "from nltk.corpus import stopwords"
   ]
  },
  {
   "cell_type": "code",
   "execution_count": 5,
   "metadata": {
    "pycharm": {
     "name": "#%%\n"
    }
   },
   "outputs": [],
   "source": [
    "def remove_specials(tokens):\n",
    "    return [unidecode.unidecode(word) for word in tokens]"
   ]
  },
  {
   "cell_type": "code",
   "execution_count": 6,
   "metadata": {
    "pycharm": {
     "name": "#%%\n"
    }
   },
   "outputs": [],
   "source": [
    "def remove_punctuation(tokens):\n",
    "    table = str.maketrans(\"\",\"\",string.punctuation)\n",
    "    return [w.translate(table) for w in tokens]"
   ]
  },
  {
   "cell_type": "code",
   "execution_count": 7,
   "metadata": {
    "pycharm": {
     "name": "#%%\n"
    }
   },
   "outputs": [],
   "source": [
    "def array_lower(tokens):\n",
    "    return [w.lower() for w in tokens]"
   ]
  },
  {
   "cell_type": "code",
   "execution_count": 8,
   "metadata": {
    "pycharm": {
     "name": "#%%\n"
    }
   },
   "outputs": [],
   "source": [
    "def remove_no_words(tokens):\n",
    "    return [word for word in tokens if word.isalpha()]"
   ]
  },
  {
   "cell_type": "code",
   "execution_count": 9,
   "metadata": {
    "pycharm": {
     "name": "#%%\n"
    }
   },
   "outputs": [],
   "source": [
    "def remove_stop_words(tokens):\n",
    "    stop_words = set(stopwords.words('english'))\n",
    "    return [w for w in tokens if not w in stop_words]"
   ]
  },
  {
   "cell_type": "code",
   "execution_count": 10,
   "metadata": {
    "pycharm": {
     "name": "#%%\n"
    }
   },
   "outputs": [],
   "source": [
    "def text_clean(df_text_column):\n",
    "    # Dividindo texto em tokens\n",
    "    df_text_column = df_text_column.apply(word_tokenize)\n",
    "\n",
    "    # Convertendo texto para minusculo\n",
    "    df_text_column = df_text_column.apply(array_lower)\n",
    "\n",
    "    # Removendo pontuação\n",
    "    df_text_column = df_text_column.apply(remove_punctuation)\n",
    "\n",
    "    # Removendo caracteres especiais\n",
    "    df_text_column = df_text_column.apply(remove_specials)\n",
    "\n",
    "    # Removendo tokens que não sao palavras\n",
    "    df_text_column = df_text_column.apply(remove_no_words)\n",
    "\n",
    "    # Removendo tokens que são stop words\n",
    "    df_text_column = df_text_column.apply(remove_stop_words)\n",
    "\n",
    "    return df_text_column\n"
   ]
  },
  {
   "cell_type": "code",
   "execution_count": 11,
   "metadata": {
    "pycharm": {
     "name": "#%%\n"
    }
   },
   "outputs": [
    {
     "data": {
      "text/html": [
       "<div>\n",
       "<style scoped>\n",
       "    .dataframe tbody tr th:only-of-type {\n",
       "        vertical-align: middle;\n",
       "    }\n",
       "\n",
       "    .dataframe tbody tr th {\n",
       "        vertical-align: top;\n",
       "    }\n",
       "\n",
       "    .dataframe thead th {\n",
       "        text-align: right;\n",
       "    }\n",
       "</style>\n",
       "<table border=\"1\" class=\"dataframe\">\n",
       "  <thead>\n",
       "    <tr style=\"text-align: right;\">\n",
       "      <th></th>\n",
       "      <th>book_id</th>\n",
       "      <th>description</th>\n",
       "      <th>genre</th>\n",
       "      <th>language_code</th>\n",
       "    </tr>\n",
       "  </thead>\n",
       "  <tbody>\n",
       "    <tr>\n",
       "      <th>495332</th>\n",
       "      <td>23213961</td>\n",
       "      <td>[spn, au, casdean, dean, winchester, never, wa...</td>\n",
       "      <td>romance</td>\n",
       "      <td>eng</td>\n",
       "    </tr>\n",
       "    <tr>\n",
       "      <th>464587</th>\n",
       "      <td>29083954</td>\n",
       "      <td>[run, emily, baxter, running, stalker, determi...</td>\n",
       "      <td>romance</td>\n",
       "      <td>eng</td>\n",
       "    </tr>\n",
       "    <tr>\n",
       "      <th>122225</th>\n",
       "      <td>20907840</td>\n",
       "      <td>[endless, love, endless, price, jack, immortal...</td>\n",
       "      <td>fantasy_paranormal</td>\n",
       "      <td>eng</td>\n",
       "    </tr>\n",
       "    <tr>\n",
       "      <th>237286</th>\n",
       "      <td>20739906</td>\n",
       "      <td>[raised, within, community, new, zealand, seac...</td>\n",
       "      <td>history_biography</td>\n",
       "      <td>eng</td>\n",
       "    </tr>\n",
       "    <tr>\n",
       "      <th>629235</th>\n",
       "      <td>16069167</td>\n",
       "      <td>[time, slipping, away, tella, holloway, losing...</td>\n",
       "      <td>young_adult</td>\n",
       "      <td>eng</td>\n",
       "    </tr>\n",
       "    <tr>\n",
       "      <th>311289</th>\n",
       "      <td>18822103</td>\n",
       "      <td>[welldone, undoubtably, enjoyable, kirkus, rev...</td>\n",
       "      <td>mystery_thriller_crime</td>\n",
       "      <td>eng</td>\n",
       "    </tr>\n",
       "    <tr>\n",
       "      <th>58271</th>\n",
       "      <td>18395466</td>\n",
       "      <td>[first, printed, collection, worsted, wear, co...</td>\n",
       "      <td>comics_graphic</td>\n",
       "      <td>eng</td>\n",
       "    </tr>\n",
       "    <tr>\n",
       "      <th>513536</th>\n",
       "      <td>16109004</td>\n",
       "      <td>[skye, high, laverne, thompson, knew, travelin...</td>\n",
       "      <td>romance</td>\n",
       "      <td>eng</td>\n",
       "    </tr>\n",
       "    <tr>\n",
       "      <th>627863</th>\n",
       "      <td>17155449</td>\n",
       "      <td>[sixteenyearold, kara, nightingale, ordinary, ...</td>\n",
       "      <td>young_adult</td>\n",
       "      <td>eng</td>\n",
       "    </tr>\n",
       "    <tr>\n",
       "      <th>265221</th>\n",
       "      <td>6554376</td>\n",
       "      <td>[weaving, travel, writing, historical, researc...</td>\n",
       "      <td>history_biography</td>\n",
       "      <td>en-GB</td>\n",
       "    </tr>\n",
       "  </tbody>\n",
       "</table>\n",
       "</div>"
      ],
      "text/plain": [
       "         book_id                                        description  \\\n",
       "495332  23213961  [spn, au, casdean, dean, winchester, never, wa...   \n",
       "464587  29083954  [run, emily, baxter, running, stalker, determi...   \n",
       "122225  20907840  [endless, love, endless, price, jack, immortal...   \n",
       "237286  20739906  [raised, within, community, new, zealand, seac...   \n",
       "629235  16069167  [time, slipping, away, tella, holloway, losing...   \n",
       "311289  18822103  [welldone, undoubtably, enjoyable, kirkus, rev...   \n",
       "58271   18395466  [first, printed, collection, worsted, wear, co...   \n",
       "513536  16109004  [skye, high, laverne, thompson, knew, travelin...   \n",
       "627863  17155449  [sixteenyearold, kara, nightingale, ordinary, ...   \n",
       "265221   6554376  [weaving, travel, writing, historical, researc...   \n",
       "\n",
       "                         genre language_code  \n",
       "495332                 romance           eng  \n",
       "464587                 romance           eng  \n",
       "122225      fantasy_paranormal           eng  \n",
       "237286       history_biography           eng  \n",
       "629235             young_adult           eng  \n",
       "311289  mystery_thriller_crime           eng  \n",
       "58271           comics_graphic           eng  \n",
       "513536                 romance           eng  \n",
       "627863             young_adult           eng  \n",
       "265221       history_biography         en-GB  "
      ]
     },
     "execution_count": 11,
     "metadata": {},
     "output_type": "execute_result"
    }
   ],
   "source": [
    "df_mini['description'] = text_clean(df_mini['description'])\n",
    "df_mini"
   ]
  }
 ],
 "metadata": {
  "kernelspec": {
   "display_name": "Python 3",
   "language": "python",
   "name": "python3"
  },
  "language_info": {
   "codemirror_mode": {
    "name": "ipython",
    "version": 3
   },
   "file_extension": ".py",
   "mimetype": "text/x-python",
   "name": "python",
   "nbconvert_exporter": "python",
   "pygments_lexer": "ipython3",
   "version": "3.8.5"
  }
 },
 "nbformat": 4,
 "nbformat_minor": 1
}

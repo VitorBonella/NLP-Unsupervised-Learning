{
 "cells": [
  {
   "cell_type": "markdown",
   "metadata": {
    "collapsed": true,
    "pycharm": {
     "name": "#%% md\n"
    }
   },
   "source": [
    "# Pré-processamento dos dados textuais\n",
    "\n",
    "## Transformando os dados em um dataset"
   ]
  },
  {
   "cell_type": "code",
   "execution_count": 1,
   "metadata": {
    "scrolled": true
   },
   "outputs": [
    {
     "name": "stdout",
     "output_type": "stream",
     "text": [
      "Note: you may need to restart the kernel to use updated packages.\n"
     ]
    },
    {
     "name": "stderr",
     "output_type": "stream",
     "text": [
      "WARNING: Ignoring invalid distribution -illow (c:\\users\\vitor\\appdata\\local\\programs\\python\\python38\\lib\\site-packages)\n",
      "WARNING: Ignoring invalid distribution -illow (c:\\users\\vitor\\appdata\\local\\programs\\python\\python38\\lib\\site-packages)\n",
      "WARNING: Ignoring invalid distribution -illow (c:\\users\\vitor\\appdata\\local\\programs\\python\\python38\\lib\\site-packages)\n",
      "WARNING: Ignoring invalid distribution -illow (c:\\users\\vitor\\appdata\\local\\programs\\python\\python38\\lib\\site-packages)\n",
      "WARNING: Ignoring invalid distribution -illow (c:\\users\\vitor\\appdata\\local\\programs\\python\\python38\\lib\\site-packages)\n"
     ]
    },
    {
     "name": "stdout",
     "output_type": "stream",
     "text": [
      "Note: you may need to restart the kernel to use updated packages.\n"
     ]
    },
    {
     "name": "stderr",
     "output_type": "stream",
     "text": [
      "WARNING: Ignoring invalid distribution -illow (c:\\users\\vitor\\appdata\\local\\programs\\python\\python38\\lib\\site-packages)\n",
      "WARNING: Ignoring invalid distribution -illow (c:\\users\\vitor\\appdata\\local\\programs\\python\\python38\\lib\\site-packages)\n",
      "WARNING: Ignoring invalid distribution -illow (c:\\users\\vitor\\appdata\\local\\programs\\python\\python38\\lib\\site-packages)\n",
      "WARNING: Ignoring invalid distribution -illow (c:\\users\\vitor\\appdata\\local\\programs\\python\\python38\\lib\\site-packages)\n",
      "WARNING: Ignoring invalid distribution -illow (c:\\users\\vitor\\appdata\\local\\programs\\python\\python38\\lib\\site-packages)\n"
     ]
    },
    {
     "name": "stdout",
     "output_type": "stream",
     "text": [
      "Note: you may need to restart the kernel to use updated packages.\n"
     ]
    },
    {
     "name": "stderr",
     "output_type": "stream",
     "text": [
      "WARNING: Ignoring invalid distribution -illow (c:\\users\\vitor\\appdata\\local\\programs\\python\\python38\\lib\\site-packages)\n",
      "WARNING: Ignoring invalid distribution -illow (c:\\users\\vitor\\appdata\\local\\programs\\python\\python38\\lib\\site-packages)\n",
      "WARNING: Ignoring invalid distribution -illow (c:\\users\\vitor\\appdata\\local\\programs\\python\\python38\\lib\\site-packages)\n",
      "WARNING: Ignoring invalid distribution -illow (c:\\users\\vitor\\appdata\\local\\programs\\python\\python38\\lib\\site-packages)\n",
      "WARNING: Ignoring invalid distribution -illow (c:\\users\\vitor\\appdata\\local\\programs\\python\\python38\\lib\\site-packages)\n"
     ]
    },
    {
     "name": "stdout",
     "output_type": "stream",
     "text": [
      "Note: you may need to restart the kernel to use updated packages.\n"
     ]
    },
    {
     "name": "stderr",
     "output_type": "stream",
     "text": [
      "WARNING: Ignoring invalid distribution -illow (c:\\users\\vitor\\appdata\\local\\programs\\python\\python38\\lib\\site-packages)\n",
      "WARNING: Ignoring invalid distribution -illow (c:\\users\\vitor\\appdata\\local\\programs\\python\\python38\\lib\\site-packages)\n",
      "WARNING: Ignoring invalid distribution -illow (c:\\users\\vitor\\appdata\\local\\programs\\python\\python38\\lib\\site-packages)\n",
      "WARNING: Ignoring invalid distribution -illow (c:\\users\\vitor\\appdata\\local\\programs\\python\\python38\\lib\\site-packages)\n",
      "WARNING: Ignoring invalid distribution -illow (c:\\users\\vitor\\appdata\\local\\programs\\python\\python38\\lib\\site-packages)\n"
     ]
    }
   ],
   "source": [
    "%pip -q install pandas\n",
    "%pip -q install unidecode\n",
    "%pip -q install nltk\n",
    "%pip -q install sklearn"
   ]
  },
  {
   "cell_type": "code",
   "execution_count": 2,
   "metadata": {},
   "outputs": [],
   "source": [
    "import pandas as pd\n",
    "import numpy as np\n",
    "\n",
    "from scipy.cluster import hierarchy\n",
    "\n",
    "import sklearn.metrics as metrics\n",
    "from sklearn.feature_extraction.text import TfidfVectorizer\n",
    "from sklearn.decomposition import TruncatedSVD\n",
    "from sklearn.cluster import KMeans\n",
    "from sklearn.metrics import silhouette_score\n",
    "\n",
    "#import limpeza dos dados\n",
    "import nltk\n",
    "import unidecode\n",
    "import string\n",
    "from nltk import word_tokenize\n",
    "from nltk.corpus import stopwords\n",
    "from nltk.stem.porter import PorterStemmer"
   ]
  },
  {
   "cell_type": "code",
   "execution_count": 3,
   "metadata": {
    "pycharm": {
     "name": "#%%\n"
    }
   },
   "outputs": [],
   "source": [
    "\n",
    "df_base = pd.read_json('goodreads_books.json')\n",
    "n_samples = 1000\n",
    "\n",
    "#df_mini = df_base.sample(n=n_samples, random_state=1)\n",
    "#df_mini.head()"
   ]
  },
  {
   "cell_type": "code",
   "execution_count": 4,
   "metadata": {},
   "outputs": [
    {
     "data": {
      "text/html": [
       "<div>\n",
       "<style scoped>\n",
       "    .dataframe tbody tr th:only-of-type {\n",
       "        vertical-align: middle;\n",
       "    }\n",
       "\n",
       "    .dataframe tbody tr th {\n",
       "        vertical-align: top;\n",
       "    }\n",
       "\n",
       "    .dataframe thead th {\n",
       "        text-align: right;\n",
       "    }\n",
       "</style>\n",
       "<table border=\"1\" class=\"dataframe\">\n",
       "  <thead>\n",
       "    <tr style=\"text-align: right;\">\n",
       "      <th></th>\n",
       "      <th>book_id</th>\n",
       "      <th>description</th>\n",
       "      <th>genre</th>\n",
       "      <th>language_code</th>\n",
       "    </tr>\n",
       "  </thead>\n",
       "  <tbody>\n",
       "    <tr>\n",
       "      <th>29584</th>\n",
       "      <td>27237230</td>\n",
       "      <td>Laureate na nOg Eoin Colfer, author of the bes...</td>\n",
       "      <td>children</td>\n",
       "      <td>eng</td>\n",
       "    </tr>\n",
       "    <tr>\n",
       "      <th>27290</th>\n",
       "      <td>30267927</td>\n",
       "      <td>DreamWorks Animation's TROLLS is an irreverent...</td>\n",
       "      <td>children</td>\n",
       "      <td>eng</td>\n",
       "    </tr>\n",
       "    <tr>\n",
       "      <th>8046</th>\n",
       "      <td>16250909</td>\n",
       "      <td>Yoko and her mama are going on a trip to Japan...</td>\n",
       "      <td>children</td>\n",
       "      <td>eng</td>\n",
       "    </tr>\n",
       "    <tr>\n",
       "      <th>28484</th>\n",
       "      <td>17428684</td>\n",
       "      <td>Minnie and friends get ready to pamper their p...</td>\n",
       "      <td>children</td>\n",
       "      <td>eng</td>\n",
       "    </tr>\n",
       "    <tr>\n",
       "      <th>31456</th>\n",
       "      <td>30135659</td>\n",
       "      <td>One summer's day. ten-year-old India Opal Bulo...</td>\n",
       "      <td>children</td>\n",
       "      <td>eng</td>\n",
       "    </tr>\n",
       "  </tbody>\n",
       "</table>\n",
       "</div>"
      ],
      "text/plain": [
       "        book_id                                        description     genre  \\\n",
       "29584  27237230  Laureate na nOg Eoin Colfer, author of the bes...  children   \n",
       "27290  30267927  DreamWorks Animation's TROLLS is an irreverent...  children   \n",
       "8046   16250909  Yoko and her mama are going on a trip to Japan...  children   \n",
       "28484  17428684  Minnie and friends get ready to pamper their p...  children   \n",
       "31456  30135659  One summer's day. ten-year-old India Opal Bulo...  children   \n",
       "\n",
       "      language_code  \n",
       "29584           eng  \n",
       "27290           eng  \n",
       "8046            eng  \n",
       "28484           eng  \n",
       "31456           eng  "
      ]
     },
     "execution_count": 4,
     "metadata": {},
     "output_type": "execute_result"
    }
   ],
   "source": [
    "df_mini = pd.DataFrame(data=None, columns=df_base.columns)\n",
    "PER_GENRE = 200\n",
    "for g in df_base['genre'].unique():\n",
    "    aux_df = df_base[df_base.genre == g].sample(PER_GENRE, random_state=7)\n",
    "    df_mini = pd.concat([df_mini, aux_df], axis=0)\n",
    "df_mini.head()"
   ]
  },
  {
   "cell_type": "code",
   "execution_count": 5,
   "metadata": {},
   "outputs": [
    {
     "data": {
      "text/plain": [
       "comics_graphic            200\n",
       "romance                   200\n",
       "mystery_thriller_crime    200\n",
       "fantasy_paranormal        200\n",
       "history_biography         200\n",
       "children                  200\n",
       "poetry                    200\n",
       "young_adult               200\n",
       "Name: genre, dtype: int64"
      ]
     },
     "execution_count": 5,
     "metadata": {},
     "output_type": "execute_result"
    }
   ],
   "source": [
    "df_mini['genre'].value_counts()"
   ]
  },
  {
   "cell_type": "markdown",
   "metadata": {
    "pycharm": {
     "name": "#%% md\n"
    }
   },
   "source": [
    "## Limpeza dos dados"
   ]
  },
  {
   "cell_type": "code",
   "execution_count": 6,
   "metadata": {
    "pycharm": {
     "name": "#%%\n"
    }
   },
   "outputs": [
    {
     "name": "stderr",
     "output_type": "stream",
     "text": [
      "[nltk_data] Downloading package punkt to\n",
      "[nltk_data]     C:\\Users\\vitor\\AppData\\Roaming\\nltk_data...\n",
      "[nltk_data]   Package punkt is already up-to-date!\n",
      "[nltk_data] Downloading package stopwords to\n",
      "[nltk_data]     C:\\Users\\vitor\\AppData\\Roaming\\nltk_data...\n",
      "[nltk_data]   Package stopwords is already up-to-date!\n"
     ]
    },
    {
     "data": {
      "text/plain": [
       "True"
      ]
     },
     "execution_count": 6,
     "metadata": {},
     "output_type": "execute_result"
    }
   ],
   "source": [
    "nltk.download('punkt')\n",
    "nltk.download('stopwords')"
   ]
  },
  {
   "cell_type": "code",
   "execution_count": 7,
   "metadata": {
    "collapsed": false,
    "pycharm": {
     "name": "#%%\n"
    }
   },
   "outputs": [],
   "source": [
    "def remove_specials(tokens):\n",
    "    return [unidecode.unidecode(word) for word in tokens]\n",
    "\n",
    "def remove_punctuation(tokens):\n",
    "    table = str.maketrans(\"\",\"\",string.punctuation)\n",
    "    return [w.translate(table) for w in tokens]\n",
    "\n",
    "def array_lower(tokens):\n",
    "    return [w.lower() for w in tokens]\n",
    "\n",
    "def remove_no_words(tokens):\n",
    "    return [word for word in tokens if word.isalpha()]\n",
    "\n",
    "def remove_stop_words(tokens):\n",
    "    stop_words = set(stopwords.words('english'))\n",
    "    return [w for w in tokens if not w in stop_words]\n",
    "\n",
    "def text_clean(df_text_column, log=False):\n",
    "    if log: print(\"Starting\")\n",
    "\n",
    "    # Dividindo texto em tokens\n",
    "    df_text_column = df_text_column.apply(word_tokenize)\n",
    "\n",
    "    if log: print(\"Tokens split done\")  # Some log\n",
    "\n",
    "    # Convertendo texto para minusculo\n",
    "    df_text_column = df_text_column.apply(array_lower)\n",
    "\n",
    "    if log: print(\"Upper letters converted to normal\")\n",
    "\n",
    "    # Removendo pontuação\n",
    "    df_text_column = df_text_column.apply(remove_punctuation)\n",
    "\n",
    "    if log: print(\"Removed punctiation\")\n",
    "\n",
    "    # Removendo caracteres especiais\n",
    "    df_text_column = df_text_column.apply(remove_specials)\n",
    "\n",
    "    if log: print(\"Specials chars removed\")\n",
    "\n",
    "    # Removendo tokens que não sao palavras\n",
    "    df_text_column = df_text_column.apply(remove_no_words)\n",
    "\n",
    "    if log: print(\"Removed non-words tokens\")\n",
    "\n",
    "    # Removendo tokens que são stop words\n",
    "    df_text_column = df_text_column.apply(remove_stop_words)\n",
    "\n",
    "    if log: print(\"Removed tokens that are stop-words\\nFinished\")\n",
    "\n",
    "    return df_text_column\n"
   ]
  },
  {
   "cell_type": "code",
   "execution_count": 8,
   "metadata": {
    "collapsed": false,
    "pycharm": {
     "name": "#%%\n"
    }
   },
   "outputs": [],
   "source": [
    "# Auxiliar log function\n",
    "def size_df(d):\n",
    "    print(\"Size=\", d.memory_usage(deep=True).sum()/10**9, \"GB\")"
   ]
  },
  {
   "cell_type": "code",
   "execution_count": 9,
   "metadata": {
    "pycharm": {
     "name": "#%%\n"
    }
   },
   "outputs": [
    {
     "data": {
      "text/html": [
       "<div>\n",
       "<style scoped>\n",
       "    .dataframe tbody tr th:only-of-type {\n",
       "        vertical-align: middle;\n",
       "    }\n",
       "\n",
       "    .dataframe tbody tr th {\n",
       "        vertical-align: top;\n",
       "    }\n",
       "\n",
       "    .dataframe thead th {\n",
       "        text-align: right;\n",
       "    }\n",
       "</style>\n",
       "<table border=\"1\" class=\"dataframe\">\n",
       "  <thead>\n",
       "    <tr style=\"text-align: right;\">\n",
       "      <th></th>\n",
       "      <th>book_id</th>\n",
       "      <th>description</th>\n",
       "      <th>genre</th>\n",
       "      <th>language_code</th>\n",
       "    </tr>\n",
       "  </thead>\n",
       "  <tbody>\n",
       "    <tr>\n",
       "      <th>29584</th>\n",
       "      <td>27237230</td>\n",
       "      <td>[laureate, na, nog, eoin, colfer, author, best...</td>\n",
       "      <td>children</td>\n",
       "      <td>eng</td>\n",
       "    </tr>\n",
       "    <tr>\n",
       "      <th>27290</th>\n",
       "      <td>30267927</td>\n",
       "      <td>[dreamworks, animation, trolls, irreverent, co...</td>\n",
       "      <td>children</td>\n",
       "      <td>eng</td>\n",
       "    </tr>\n",
       "    <tr>\n",
       "      <th>8046</th>\n",
       "      <td>16250909</td>\n",
       "      <td>[yoko, mama, going, trip, japan, yoko, helps, ...</td>\n",
       "      <td>children</td>\n",
       "      <td>eng</td>\n",
       "    </tr>\n",
       "    <tr>\n",
       "      <th>28484</th>\n",
       "      <td>17428684</td>\n",
       "      <td>[minnie, friends, get, ready, pamper, pets, mi...</td>\n",
       "      <td>children</td>\n",
       "      <td>eng</td>\n",
       "    </tr>\n",
       "    <tr>\n",
       "      <th>31456</th>\n",
       "      <td>30135659</td>\n",
       "      <td>[one, summer, day, tenyearold, india, opal, bu...</td>\n",
       "      <td>children</td>\n",
       "      <td>eng</td>\n",
       "    </tr>\n",
       "  </tbody>\n",
       "</table>\n",
       "</div>"
      ],
      "text/plain": [
       "        book_id                                        description     genre  \\\n",
       "29584  27237230  [laureate, na, nog, eoin, colfer, author, best...  children   \n",
       "27290  30267927  [dreamworks, animation, trolls, irreverent, co...  children   \n",
       "8046   16250909  [yoko, mama, going, trip, japan, yoko, helps, ...  children   \n",
       "28484  17428684  [minnie, friends, get, ready, pamper, pets, mi...  children   \n",
       "31456  30135659  [one, summer, day, tenyearold, india, opal, bu...  children   \n",
       "\n",
       "      language_code  \n",
       "29584           eng  \n",
       "27290           eng  \n",
       "8046            eng  \n",
       "28484           eng  \n",
       "31456           eng  "
      ]
     },
     "execution_count": 9,
     "metadata": {},
     "output_type": "execute_result"
    }
   ],
   "source": [
    "df_mini['description'] = text_clean(df_mini['description'])\n",
    "df_mini.head()"
   ]
  },
  {
   "cell_type": "code",
   "execution_count": 10,
   "metadata": {
    "pycharm": {
     "name": "#%%\n"
    }
   },
   "outputs": [],
   "source": [
    "# df_base.loc[51285, 'description'] # Noisy data"
   ]
  },
  {
   "cell_type": "markdown",
   "metadata": {
    "collapsed": false,
    "pycharm": {
     "name": "#%% md\n"
    }
   },
   "source": [
    "# Stemming"
   ]
  },
  {
   "cell_type": "code",
   "execution_count": 11,
   "metadata": {
    "collapsed": false,
    "pycharm": {
     "name": "#%%\n"
    }
   },
   "outputs": [
    {
     "data": {
      "text/html": [
       "<div>\n",
       "<style scoped>\n",
       "    .dataframe tbody tr th:only-of-type {\n",
       "        vertical-align: middle;\n",
       "    }\n",
       "\n",
       "    .dataframe tbody tr th {\n",
       "        vertical-align: top;\n",
       "    }\n",
       "\n",
       "    .dataframe thead th {\n",
       "        text-align: right;\n",
       "    }\n",
       "</style>\n",
       "<table border=\"1\" class=\"dataframe\">\n",
       "  <thead>\n",
       "    <tr style=\"text-align: right;\">\n",
       "      <th></th>\n",
       "      <th>book_id</th>\n",
       "      <th>description</th>\n",
       "      <th>genre</th>\n",
       "      <th>language_code</th>\n",
       "    </tr>\n",
       "  </thead>\n",
       "  <tbody>\n",
       "    <tr>\n",
       "      <th>29584</th>\n",
       "      <td>27237230</td>\n",
       "      <td>[laureat, na, nog, eoin, colfer, author, bests...</td>\n",
       "      <td>children</td>\n",
       "      <td>eng</td>\n",
       "    </tr>\n",
       "    <tr>\n",
       "      <th>27290</th>\n",
       "      <td>30267927</td>\n",
       "      <td>[dreamwork, anim, troll, irrever, comedi, extr...</td>\n",
       "      <td>children</td>\n",
       "      <td>eng</td>\n",
       "    </tr>\n",
       "    <tr>\n",
       "      <th>8046</th>\n",
       "      <td>16250909</td>\n",
       "      <td>[yoko, mama, go, trip, japan, yoko, help, mama...</td>\n",
       "      <td>children</td>\n",
       "      <td>eng</td>\n",
       "    </tr>\n",
       "    <tr>\n",
       "      <th>28484</th>\n",
       "      <td>17428684</td>\n",
       "      <td>[minni, friend, get, readi, pamper, pet, minni...</td>\n",
       "      <td>children</td>\n",
       "      <td>eng</td>\n",
       "    </tr>\n",
       "    <tr>\n",
       "      <th>31456</th>\n",
       "      <td>30135659</td>\n",
       "      <td>[one, summer, day, tenyearold, india, opal, bu...</td>\n",
       "      <td>children</td>\n",
       "      <td>eng</td>\n",
       "    </tr>\n",
       "  </tbody>\n",
       "</table>\n",
       "</div>"
      ],
      "text/plain": [
       "        book_id                                        description     genre  \\\n",
       "29584  27237230  [laureat, na, nog, eoin, colfer, author, bests...  children   \n",
       "27290  30267927  [dreamwork, anim, troll, irrever, comedi, extr...  children   \n",
       "8046   16250909  [yoko, mama, go, trip, japan, yoko, help, mama...  children   \n",
       "28484  17428684  [minni, friend, get, readi, pamper, pet, minni...  children   \n",
       "31456  30135659  [one, summer, day, tenyearold, india, opal, bu...  children   \n",
       "\n",
       "      language_code  \n",
       "29584           eng  \n",
       "27290           eng  \n",
       "8046            eng  \n",
       "28484           eng  \n",
       "31456           eng  "
      ]
     },
     "execution_count": 11,
     "metadata": {},
     "output_type": "execute_result"
    }
   ],
   "source": [
    "porter = PorterStemmer()\n",
    "stemmized = lambda d: [porter.stem(tk) for tk in d]\n",
    "df_mini['description'] = df_mini['description'].apply(stemmized)\n",
    "df_mini.head()"
   ]
  },
  {
   "cell_type": "markdown",
   "metadata": {
    "collapsed": false,
    "pycharm": {
     "name": "#%% md\n"
    }
   },
   "source": [
    "# TFIDF\n"
   ]
  },
  {
   "cell_type": "code",
   "execution_count": null,
   "metadata": {
    "collapsed": false,
    "pycharm": {
     "name": "#%%\n"
    }
   },
   "outputs": [],
   "source": []
  },
  {
   "cell_type": "markdown",
   "metadata": {
    "collapsed": false,
    "pycharm": {
     "name": "#%% md\n"
    }
   },
   "source": [
    "### Using the hand made preprocessor"
   ]
  },
  {
   "cell_type": "code",
   "execution_count": 12,
   "metadata": {
    "collapsed": false,
    "pycharm": {
     "name": "#%%\n"
    }
   },
   "outputs": [
    {
     "data": {
      "text/html": [
       "<div>\n",
       "<style scoped>\n",
       "    .dataframe tbody tr th:only-of-type {\n",
       "        vertical-align: middle;\n",
       "    }\n",
       "\n",
       "    .dataframe tbody tr th {\n",
       "        vertical-align: top;\n",
       "    }\n",
       "\n",
       "    .dataframe thead th {\n",
       "        text-align: right;\n",
       "    }\n",
       "</style>\n",
       "<table border=\"1\" class=\"dataframe\">\n",
       "  <thead>\n",
       "    <tr style=\"text-align: right;\">\n",
       "      <th></th>\n",
       "      <th>aan</th>\n",
       "      <th>aanslag</th>\n",
       "      <th>aantal</th>\n",
       "      <th>aardvark</th>\n",
       "      <th>aaron</th>\n",
       "      <th>abandon</th>\n",
       "      <th>abbadon</th>\n",
       "      <th>abbey</th>\n",
       "      <th>abbeybeast</th>\n",
       "      <th>abbi</th>\n",
       "      <th>...</th>\n",
       "      <th>zovigo</th>\n",
       "      <th>zu</th>\n",
       "      <th>zub</th>\n",
       "      <th>zur</th>\n",
       "      <th>zusak</th>\n",
       "      <th>zusj</th>\n",
       "      <th>zvezd</th>\n",
       "      <th>zwei</th>\n",
       "      <th>zwerg</th>\n",
       "      <th>zyzzyva</th>\n",
       "    </tr>\n",
       "  </thead>\n",
       "  <tbody>\n",
       "    <tr>\n",
       "      <th>0</th>\n",
       "      <td>0.0</td>\n",
       "      <td>0.0</td>\n",
       "      <td>0.0</td>\n",
       "      <td>0.0</td>\n",
       "      <td>0.0</td>\n",
       "      <td>0.0</td>\n",
       "      <td>0.0</td>\n",
       "      <td>0.0</td>\n",
       "      <td>0.0</td>\n",
       "      <td>0.0</td>\n",
       "      <td>...</td>\n",
       "      <td>0.0</td>\n",
       "      <td>0.0</td>\n",
       "      <td>0.0</td>\n",
       "      <td>0.0</td>\n",
       "      <td>0.0</td>\n",
       "      <td>0.0</td>\n",
       "      <td>0.0</td>\n",
       "      <td>0.0</td>\n",
       "      <td>0.0</td>\n",
       "      <td>0.0</td>\n",
       "    </tr>\n",
       "    <tr>\n",
       "      <th>1</th>\n",
       "      <td>0.0</td>\n",
       "      <td>0.0</td>\n",
       "      <td>0.0</td>\n",
       "      <td>0.0</td>\n",
       "      <td>0.0</td>\n",
       "      <td>0.0</td>\n",
       "      <td>0.0</td>\n",
       "      <td>0.0</td>\n",
       "      <td>0.0</td>\n",
       "      <td>0.0</td>\n",
       "      <td>...</td>\n",
       "      <td>0.0</td>\n",
       "      <td>0.0</td>\n",
       "      <td>0.0</td>\n",
       "      <td>0.0</td>\n",
       "      <td>0.0</td>\n",
       "      <td>0.0</td>\n",
       "      <td>0.0</td>\n",
       "      <td>0.0</td>\n",
       "      <td>0.0</td>\n",
       "      <td>0.0</td>\n",
       "    </tr>\n",
       "    <tr>\n",
       "      <th>2</th>\n",
       "      <td>0.0</td>\n",
       "      <td>0.0</td>\n",
       "      <td>0.0</td>\n",
       "      <td>0.0</td>\n",
       "      <td>0.0</td>\n",
       "      <td>0.0</td>\n",
       "      <td>0.0</td>\n",
       "      <td>0.0</td>\n",
       "      <td>0.0</td>\n",
       "      <td>0.0</td>\n",
       "      <td>...</td>\n",
       "      <td>0.0</td>\n",
       "      <td>0.0</td>\n",
       "      <td>0.0</td>\n",
       "      <td>0.0</td>\n",
       "      <td>0.0</td>\n",
       "      <td>0.0</td>\n",
       "      <td>0.0</td>\n",
       "      <td>0.0</td>\n",
       "      <td>0.0</td>\n",
       "      <td>0.0</td>\n",
       "    </tr>\n",
       "    <tr>\n",
       "      <th>3</th>\n",
       "      <td>0.0</td>\n",
       "      <td>0.0</td>\n",
       "      <td>0.0</td>\n",
       "      <td>0.0</td>\n",
       "      <td>0.0</td>\n",
       "      <td>0.0</td>\n",
       "      <td>0.0</td>\n",
       "      <td>0.0</td>\n",
       "      <td>0.0</td>\n",
       "      <td>0.0</td>\n",
       "      <td>...</td>\n",
       "      <td>0.0</td>\n",
       "      <td>0.0</td>\n",
       "      <td>0.0</td>\n",
       "      <td>0.0</td>\n",
       "      <td>0.0</td>\n",
       "      <td>0.0</td>\n",
       "      <td>0.0</td>\n",
       "      <td>0.0</td>\n",
       "      <td>0.0</td>\n",
       "      <td>0.0</td>\n",
       "    </tr>\n",
       "    <tr>\n",
       "      <th>4</th>\n",
       "      <td>0.0</td>\n",
       "      <td>0.0</td>\n",
       "      <td>0.0</td>\n",
       "      <td>0.0</td>\n",
       "      <td>0.0</td>\n",
       "      <td>0.0</td>\n",
       "      <td>0.0</td>\n",
       "      <td>0.0</td>\n",
       "      <td>0.0</td>\n",
       "      <td>0.0</td>\n",
       "      <td>...</td>\n",
       "      <td>0.0</td>\n",
       "      <td>0.0</td>\n",
       "      <td>0.0</td>\n",
       "      <td>0.0</td>\n",
       "      <td>0.0</td>\n",
       "      <td>0.0</td>\n",
       "      <td>0.0</td>\n",
       "      <td>0.0</td>\n",
       "      <td>0.0</td>\n",
       "      <td>0.0</td>\n",
       "    </tr>\n",
       "  </tbody>\n",
       "</table>\n",
       "<p>5 rows × 15332 columns</p>\n",
       "</div>"
      ],
      "text/plain": [
       "   aan  aanslag  aantal  aardvark  aaron  abandon  abbadon  abbey  abbeybeast  \\\n",
       "0  0.0      0.0     0.0       0.0    0.0      0.0      0.0    0.0         0.0   \n",
       "1  0.0      0.0     0.0       0.0    0.0      0.0      0.0    0.0         0.0   \n",
       "2  0.0      0.0     0.0       0.0    0.0      0.0      0.0    0.0         0.0   \n",
       "3  0.0      0.0     0.0       0.0    0.0      0.0      0.0    0.0         0.0   \n",
       "4  0.0      0.0     0.0       0.0    0.0      0.0      0.0    0.0         0.0   \n",
       "\n",
       "   abbi  ...  zovigo   zu  zub  zur  zusak  zusj  zvezd  zwei  zwerg  zyzzyva  \n",
       "0   0.0  ...     0.0  0.0  0.0  0.0    0.0   0.0    0.0   0.0    0.0      0.0  \n",
       "1   0.0  ...     0.0  0.0  0.0  0.0    0.0   0.0    0.0   0.0    0.0      0.0  \n",
       "2   0.0  ...     0.0  0.0  0.0  0.0    0.0   0.0    0.0   0.0    0.0      0.0  \n",
       "3   0.0  ...     0.0  0.0  0.0  0.0    0.0   0.0    0.0   0.0    0.0      0.0  \n",
       "4   0.0  ...     0.0  0.0  0.0  0.0    0.0   0.0    0.0   0.0    0.0      0.0  \n",
       "\n",
       "[5 rows x 15332 columns]"
      ]
     },
     "execution_count": 12,
     "metadata": {},
     "output_type": "execute_result"
    }
   ],
   "source": [
    "do_nothing = lambda x: x\n",
    "vect_manual = TfidfVectorizer(tokenizer=do_nothing, lowercase=False, preprocessor=do_nothing, ngram_range=(1, 1))\n",
    "freq = vect_manual.fit_transform(df_mini['description'].values.tolist())\n",
    "features = vect_manual.get_feature_names_out()\n",
    "df_freq = pd.DataFrame(data=freq.todense(), columns=features)\n",
    "df_freq.head()"
   ]
  },
  {
   "cell_type": "markdown",
   "metadata": {
    "collapsed": false,
    "pycharm": {
     "name": "#%% md\n"
    }
   },
   "source": [
    "### Using only the class from sklearn"
   ]
  },
  {
   "cell_type": "code",
   "execution_count": 13,
   "metadata": {
    "collapsed": false,
    "pycharm": {
     "name": "#%%\n"
    }
   },
   "outputs": [],
   "source": [
    "# vect = TfidfVectorizer(strip_accents='unicode', stop_words='english', ngram_range=(1, 1))\n",
    "# freq = vect.fit_transform(df_mini['description'].values.tolist())\n",
    "# df_freq = pd.DataFrame(data=freq.todense(), columns=vect.get_feature_names_out())\n",
    "# df_freq.head()"
   ]
  },
  {
   "cell_type": "markdown",
   "metadata": {
    "collapsed": false,
    "pycharm": {
     "name": "#%% md\n"
    }
   },
   "source": [
    "# PCA"
   ]
  },
  {
   "cell_type": "code",
   "execution_count": 14,
   "metadata": {
    "collapsed": false,
    "pycharm": {
     "name": "#%%\n"
    }
   },
   "outputs": [],
   "source": [
    "N_COMPONENTS = 100\n",
    "pca = TruncatedSVD(n_components=N_COMPONENTS)"
   ]
  },
  {
   "cell_type": "code",
   "execution_count": 15,
   "metadata": {
    "collapsed": false,
    "pycharm": {
     "name": "#%%\n"
    }
   },
   "outputs": [
    {
     "name": "stdout",
     "output_type": "stream",
     "text": [
      "Total variance explained: 0.16\n"
     ]
    }
   ],
   "source": [
    "pca.fit(df_freq)\n",
    "print(f\"Total variance explained: {np.sum(pca.explained_variance_ratio_):.2f}\")"
   ]
  },
  {
   "cell_type": "code",
   "execution_count": 16,
   "metadata": {},
   "outputs": [
    {
     "data": {
      "text/html": [
       "<div>\n",
       "<style scoped>\n",
       "    .dataframe tbody tr th:only-of-type {\n",
       "        vertical-align: middle;\n",
       "    }\n",
       "\n",
       "    .dataframe tbody tr th {\n",
       "        vertical-align: top;\n",
       "    }\n",
       "\n",
       "    .dataframe thead th {\n",
       "        text-align: right;\n",
       "    }\n",
       "</style>\n",
       "<table border=\"1\" class=\"dataframe\">\n",
       "  <thead>\n",
       "    <tr style=\"text-align: right;\">\n",
       "      <th></th>\n",
       "      <th>0</th>\n",
       "      <th>1</th>\n",
       "      <th>2</th>\n",
       "      <th>3</th>\n",
       "      <th>4</th>\n",
       "      <th>5</th>\n",
       "      <th>6</th>\n",
       "      <th>7</th>\n",
       "      <th>8</th>\n",
       "      <th>9</th>\n",
       "      <th>...</th>\n",
       "      <th>90</th>\n",
       "      <th>91</th>\n",
       "      <th>92</th>\n",
       "      <th>93</th>\n",
       "      <th>94</th>\n",
       "      <th>95</th>\n",
       "      <th>96</th>\n",
       "      <th>97</th>\n",
       "      <th>98</th>\n",
       "      <th>99</th>\n",
       "    </tr>\n",
       "  </thead>\n",
       "  <tbody>\n",
       "    <tr>\n",
       "      <th>0</th>\n",
       "      <td>0.129069</td>\n",
       "      <td>0.191187</td>\n",
       "      <td>-0.006832</td>\n",
       "      <td>0.049854</td>\n",
       "      <td>-0.050217</td>\n",
       "      <td>0.016804</td>\n",
       "      <td>-0.014785</td>\n",
       "      <td>-0.036846</td>\n",
       "      <td>-0.060624</td>\n",
       "      <td>-0.039527</td>\n",
       "      <td>...</td>\n",
       "      <td>0.027109</td>\n",
       "      <td>-0.000006</td>\n",
       "      <td>0.006717</td>\n",
       "      <td>0.038214</td>\n",
       "      <td>0.036041</td>\n",
       "      <td>-0.022404</td>\n",
       "      <td>-0.042871</td>\n",
       "      <td>0.029832</td>\n",
       "      <td>-0.034470</td>\n",
       "      <td>0.015101</td>\n",
       "    </tr>\n",
       "    <tr>\n",
       "      <th>1</th>\n",
       "      <td>0.074809</td>\n",
       "      <td>0.020630</td>\n",
       "      <td>-0.006271</td>\n",
       "      <td>0.052104</td>\n",
       "      <td>-0.000220</td>\n",
       "      <td>-0.015106</td>\n",
       "      <td>-0.059798</td>\n",
       "      <td>0.014039</td>\n",
       "      <td>0.020159</td>\n",
       "      <td>-0.048329</td>\n",
       "      <td>...</td>\n",
       "      <td>0.027308</td>\n",
       "      <td>-0.016096</td>\n",
       "      <td>0.028482</td>\n",
       "      <td>-0.024891</td>\n",
       "      <td>-0.068102</td>\n",
       "      <td>-0.030291</td>\n",
       "      <td>0.001296</td>\n",
       "      <td>0.002738</td>\n",
       "      <td>-0.013099</td>\n",
       "      <td>0.028268</td>\n",
       "    </tr>\n",
       "    <tr>\n",
       "      <th>2</th>\n",
       "      <td>0.074401</td>\n",
       "      <td>0.001014</td>\n",
       "      <td>0.047584</td>\n",
       "      <td>0.044001</td>\n",
       "      <td>-0.005078</td>\n",
       "      <td>-0.008926</td>\n",
       "      <td>-0.011144</td>\n",
       "      <td>0.015254</td>\n",
       "      <td>0.017287</td>\n",
       "      <td>-0.023459</td>\n",
       "      <td>...</td>\n",
       "      <td>-0.008217</td>\n",
       "      <td>0.024256</td>\n",
       "      <td>0.022545</td>\n",
       "      <td>0.020698</td>\n",
       "      <td>-0.019293</td>\n",
       "      <td>-0.030788</td>\n",
       "      <td>0.006282</td>\n",
       "      <td>-0.021528</td>\n",
       "      <td>0.002751</td>\n",
       "      <td>0.014699</td>\n",
       "    </tr>\n",
       "    <tr>\n",
       "      <th>3</th>\n",
       "      <td>0.071326</td>\n",
       "      <td>0.031374</td>\n",
       "      <td>0.055220</td>\n",
       "      <td>0.059301</td>\n",
       "      <td>-0.005002</td>\n",
       "      <td>-0.008747</td>\n",
       "      <td>-0.078577</td>\n",
       "      <td>0.041213</td>\n",
       "      <td>-0.006050</td>\n",
       "      <td>-0.056130</td>\n",
       "      <td>...</td>\n",
       "      <td>0.002464</td>\n",
       "      <td>0.043135</td>\n",
       "      <td>0.021528</td>\n",
       "      <td>-0.039362</td>\n",
       "      <td>-0.029599</td>\n",
       "      <td>-0.016324</td>\n",
       "      <td>0.012087</td>\n",
       "      <td>0.004029</td>\n",
       "      <td>-0.020905</td>\n",
       "      <td>0.027889</td>\n",
       "    </tr>\n",
       "    <tr>\n",
       "      <th>4</th>\n",
       "      <td>0.085996</td>\n",
       "      <td>-0.033285</td>\n",
       "      <td>0.014114</td>\n",
       "      <td>0.011181</td>\n",
       "      <td>-0.040977</td>\n",
       "      <td>0.013732</td>\n",
       "      <td>-0.062024</td>\n",
       "      <td>-0.023343</td>\n",
       "      <td>-0.004686</td>\n",
       "      <td>0.036814</td>\n",
       "      <td>...</td>\n",
       "      <td>-0.005820</td>\n",
       "      <td>0.012876</td>\n",
       "      <td>-0.039755</td>\n",
       "      <td>0.025399</td>\n",
       "      <td>0.014201</td>\n",
       "      <td>-0.001217</td>\n",
       "      <td>-0.007036</td>\n",
       "      <td>-0.001451</td>\n",
       "      <td>0.025112</td>\n",
       "      <td>-0.014952</td>\n",
       "    </tr>\n",
       "  </tbody>\n",
       "</table>\n",
       "<p>5 rows × 100 columns</p>\n",
       "</div>"
      ],
      "text/plain": [
       "         0         1         2         3         4         5         6   \\\n",
       "0  0.129069  0.191187 -0.006832  0.049854 -0.050217  0.016804 -0.014785   \n",
       "1  0.074809  0.020630 -0.006271  0.052104 -0.000220 -0.015106 -0.059798   \n",
       "2  0.074401  0.001014  0.047584  0.044001 -0.005078 -0.008926 -0.011144   \n",
       "3  0.071326  0.031374  0.055220  0.059301 -0.005002 -0.008747 -0.078577   \n",
       "4  0.085996 -0.033285  0.014114  0.011181 -0.040977  0.013732 -0.062024   \n",
       "\n",
       "         7         8         9   ...        90        91        92        93  \\\n",
       "0 -0.036846 -0.060624 -0.039527  ...  0.027109 -0.000006  0.006717  0.038214   \n",
       "1  0.014039  0.020159 -0.048329  ...  0.027308 -0.016096  0.028482 -0.024891   \n",
       "2  0.015254  0.017287 -0.023459  ... -0.008217  0.024256  0.022545  0.020698   \n",
       "3  0.041213 -0.006050 -0.056130  ...  0.002464  0.043135  0.021528 -0.039362   \n",
       "4 -0.023343 -0.004686  0.036814  ... -0.005820  0.012876 -0.039755  0.025399   \n",
       "\n",
       "         94        95        96        97        98        99  \n",
       "0  0.036041 -0.022404 -0.042871  0.029832 -0.034470  0.015101  \n",
       "1 -0.068102 -0.030291  0.001296  0.002738 -0.013099  0.028268  \n",
       "2 -0.019293 -0.030788  0.006282 -0.021528  0.002751  0.014699  \n",
       "3 -0.029599 -0.016324  0.012087  0.004029 -0.020905  0.027889  \n",
       "4  0.014201 -0.001217 -0.007036 -0.001451  0.025112 -0.014952  \n",
       "\n",
       "[5 rows x 100 columns]"
      ]
     },
     "execution_count": 16,
     "metadata": {},
     "output_type": "execute_result"
    }
   ],
   "source": [
    "freq_reduced = pca.transform(df_freq)\n",
    "df_freq_reduced = pd.DataFrame(data=freq_reduced, columns=list(range(N_COMPONENTS)))\n",
    "df_freq_reduced.head()"
   ]
  },
  {
   "cell_type": "code",
   "execution_count": 17,
   "metadata": {
    "collapsed": false,
    "pycharm": {
     "name": "#%%\n"
    }
   },
   "outputs": [
    {
     "data": {
      "image/png": "[encoded data removed]",
      "text/plain": [
       "<Figure size 504x360 with 1 Axes>"
      ]
     },
     "metadata": {
      "needs_background": "light"
     },
     "output_type": "display_data"
    }
   ],
   "source": [
    "import matplotlib.pyplot as plt\n",
    "import numpy as np\n",
    "fig = plt.figure(figsize=(7, 5))\n",
    "plt.plot([i for i in range(1, pca.n_components + 1)], np.cumsum(pca.explained_variance_ratio_))\n",
    "plt.xlabel(r'$k$ - Número de componentes principais')\n",
    "plt.ylabel(r'$f(k)$ - Fração cumulativa da variância explicada');"
   ]
  },
  {
   "cell_type": "markdown",
   "metadata": {
    "collapsed": false,
    "pycharm": {
     "name": "#%% md\n"
    }
   },
   "source": [
    "Aplicando o número máximo de componentes principais percebemos que talvez seja preciso um aumento no número de samples uma vez que o valor de componentes principais deve estar no intervalo entre\n",
    "$$\\left[0, \\ min(n_{samples} \\ , \\ n_{features}) \\right]$$"
   ]
  },
  {
   "cell_type": "markdown",
   "metadata": {},
   "source": [
    "# Analise da Quantidade de Grupos"
   ]
  },
  {
   "cell_type": "markdown",
   "metadata": {},
   "source": [
    "### Silhoutte score"
   ]
  },
  {
   "cell_type": "code",
   "execution_count": 18,
   "metadata": {},
   "outputs": [
    {
     "data": {
      "text/plain": [
       "Text(0, 0.5, 'Silhouette Score')"
      ]
     },
     "execution_count": 18,
     "metadata": {},
     "output_type": "execute_result"
    },
    {
     "data": {
      "image/png": "[encoded data removed]",
      "text/plain": [
       "<Figure size 432x288 with 1 Axes>"
      ]
     },
     "metadata": {
      "needs_background": "light"
     },
     "output_type": "display_data"
    }
   ],
   "source": [
    "def sc_evaluate_clusters(X, max_clusters, n_init, seed):\n",
    "    s = np.zeros(max_clusters+1)\n",
    "    s[0] = 0\n",
    "    s[1] = 0\n",
    "    for k in range(2, max_clusters+1):\n",
    "        kmeans = KMeans(init='k-means++', n_clusters = k, n_init = n_init, random_state = seed)\n",
    "        kmeans.fit_predict(X)\n",
    "        s[k] = metrics.silhouette_score(X, kmeans.labels_, metric = 'euclidean')\n",
    "    return s\n",
    "\n",
    "s = sc_evaluate_clusters(freq_reduced, 10, 10, 1)\n",
    "plt.plot(range(2, len(s)), s[2:], 'o-')\n",
    "plt.xlabel('Number of Clusters')\n",
    "plt.title('$k$-means clustering performance on synthetic data')\n",
    "plt.ylabel('Silhouette Score')"
   ]
  },
  {
   "cell_type": "markdown",
   "metadata": {},
   "source": [
    "### Dendogram"
   ]
  },
  {
   "cell_type": "code",
   "execution_count": 19,
   "metadata": {},
   "outputs": [
    {
     "data": {
      "text/plain": [
       "(1600, 1600)"
      ]
     },
     "execution_count": 19,
     "metadata": {},
     "output_type": "execute_result"
    }
   ],
   "source": [
    "euclidian_dists = metrics.euclidean_distances(df_freq_reduced.values)\n",
    "euclidian_dists.shape"
   ]
  },
  {
   "cell_type": "code",
   "execution_count": 20,
   "metadata": {},
   "outputs": [
    {
     "name": "stderr",
     "output_type": "stream",
     "text": [
      "<ipython-input-20-f0899bcf4a1a>:1: ClusterWarning: scipy.cluster: The symmetric non-negative hollow observation matrix looks suspiciously like an uncondensed distance matrix\n",
      "  eucli_dists = hierarchy.linkage(euclidian_dists)\n"
     ]
    },
    {
     "data": {
      "image/png": "[encoded data removed]",
      "text/plain": [
       "<Figure size 432x288 with 1 Axes>"
      ]
     },
     "metadata": {
      "needs_background": "light"
     },
     "output_type": "display_data"
    }
   ],
   "source": [
    "eucli_dists = hierarchy.linkage(euclidian_dists)\n",
    "hierarchy.dendrogram(eucli_dists, color_threshold=1)\n",
    "# plt.figure(facecolor='white')\n",
    "plt.xticks([], [])\n",
    "plt.ylabel('Distância')\n",
    "plt.xlabel('Objetos')\n",
    "plt.show()"
   ]
  },
  {
   "cell_type": "markdown",
   "metadata": {},
   "source": [
    "### MDS"
   ]
  },
  {
   "cell_type": "code",
   "execution_count": 21,
   "metadata": {},
   "outputs": [],
   "source": [
    "import sklearn.manifold\n",
    "mds = sklearn.manifold.MDS(n_components=2, max_iter=1000, eps=1e-9, random_state=0,\n",
    "                   dissimilarity = \"precomputed\")\n",
    "fit = mds.fit(euclidian_dists)\n",
    "pos = fit.embedding_\n",
    "plt.scatter(pos[:, 0], pos[:, 1], s=8)\n",
    "plt.axis('square')"
   ]
  },
  {
   "cell_type": "markdown",
   "metadata": {},
   "source": [
    "# K-means"
   ]
  },
  {
   "cell_type": "code",
   "execution_count": null,
   "metadata": {},
   "outputs": [
    {
     "name": "stdout",
     "output_type": "stream",
     "text": [
      "8\n"
     ]
    }
   ],
   "source": [
    "num_labels = df_mini['genre'].unique().size\n",
    "print(num_labels)"
   ]
  },
  {
   "cell_type": "code",
   "execution_count": null,
   "metadata": {
    "collapsed": false,
    "pycharm": {
     "name": "#%%\n"
    }
   },
   "outputs": [],
   "source": [
    "model = KMeans(n_clusters=2, random_state=42)\n",
    "y_pred = model.fit_predict(df_freq_reduced)\n",
    "# word_positions = {v: k for k, v in vectorizer.vocabulary_.items()}\n",
    "# cluster_ids = generate_wordclouds(X_svd, X_tfidf, 2, word_positions)"
   ]
  },
  {
   "cell_type": "code",
   "execution_count": null,
   "metadata": {
    "collapsed": false,
    "pycharm": {
     "name": "#%%\n"
    }
   },
   "outputs": [],
   "source": []
  },
  {
   "cell_type": "markdown",
   "metadata": {},
   "source": [
    "# Evaluate our model"
   ]
  },
  {
   "cell_type": "code",
   "execution_count": null,
   "metadata": {},
   "outputs": [],
   "source": []
  },
  {
   "cell_type": "code",
   "execution_count": null,
   "metadata": {},
   "outputs": [],
   "source": []
  }
 ],
 "metadata": {
  "interpreter": {
   "hash": "db8601ed9c6fae5528db3dc7d38939486afb7cc1a5a830919a58ef4bfd09cab6"
  },
  "kernelspec": {
   "display_name": "Python datascience",
   "language": "python",
   "name": "python3"
  },
  "language_info": {
   "codemirror_mode": {
    "name": "ipython",
    "version": 3
   },
   "file_extension": ".py",
   "mimetype": "text/x-python",
   "name": "python",
   "nbconvert_exporter": "python",
   "pygments_lexer": "ipython3",
   "version": "3.8.5"
  }
 },
 "nbformat": 4,
 "nbformat_minor": 1
}

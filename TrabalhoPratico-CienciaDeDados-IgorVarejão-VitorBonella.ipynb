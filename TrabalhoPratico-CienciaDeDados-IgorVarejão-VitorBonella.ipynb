{
 "cells": [
  {
   "cell_type": "markdown",
   "metadata": {
    "collapsed": true,
    "pycharm": {
     "name": "#%% md\n"
    }
   },
   "source": [
    "# Pré-processamento dos dados textuais\n",
    "\n",
    "## Transformando os dados em um dataset"
   ]
  },
  {
   "cell_type": "code",
   "execution_count": 32,
   "metadata": {
    "scrolled": true
   },
   "outputs": [
    {
     "name": "stderr",
     "output_type": "stream",
     "text": [
      "WARNING: Ignoring invalid distribution -illow (c:\\users\\vitor\\appdata\\local\\programs\\python\\python38\\lib\\site-packages)\n",
      "WARNING: Ignoring invalid distribution -illow (c:\\users\\vitor\\appdata\\local\\programs\\python\\python38\\lib\\site-packages)\n",
      "WARNING: Ignoring invalid distribution -illow (c:\\users\\vitor\\appdata\\local\\programs\\python\\python38\\lib\\site-packages)\n",
      "WARNING: Ignoring invalid distribution -illow (c:\\users\\vitor\\appdata\\local\\programs\\python\\python38\\lib\\site-packages)\n",
      "WARNING: Ignoring invalid distribution -illow (c:\\users\\vitor\\appdata\\local\\programs\\python\\python38\\lib\\site-packages)\n",
      "WARNING: Ignoring invalid distribution -illow (c:\\users\\vitor\\appdata\\local\\programs\\python\\python38\\lib\\site-packages)\n",
      "WARNING: You are using pip version 22.0.2; however, version 22.0.3 is available.\n",
      "You should consider upgrading via the 'c:\\users\\vitor\\appdata\\local\\programs\\python\\python38\\python.exe -m pip install --upgrade pip' command.\n",
      "WARNING: Ignoring invalid distribution -illow (c:\\users\\vitor\\appdata\\local\\programs\\python\\python38\\lib\\site-packages)\n",
      "WARNING: Ignoring invalid distribution -illow (c:\\users\\vitor\\appdata\\local\\programs\\python\\python38\\lib\\site-packages)\n",
      "WARNING: Ignoring invalid distribution -illow (c:\\users\\vitor\\appdata\\local\\programs\\python\\python38\\lib\\site-packages)\n",
      "WARNING: Ignoring invalid distribution -illow (c:\\users\\vitor\\appdata\\local\\programs\\python\\python38\\lib\\site-packages)\n",
      "WARNING: Ignoring invalid distribution -illow (c:\\users\\vitor\\appdata\\local\\programs\\python\\python38\\lib\\site-packages)\n",
      "WARNING: Ignoring invalid distribution -illow (c:\\users\\vitor\\appdata\\local\\programs\\python\\python38\\lib\\site-packages)\n",
      "WARNING: You are using pip version 22.0.2; however, version 22.0.3 is available.\n",
      "You should consider upgrading via the 'c:\\users\\vitor\\appdata\\local\\programs\\python\\python38\\python.exe -m pip install --upgrade pip' command.\n",
      "WARNING: Ignoring invalid distribution -illow (c:\\users\\vitor\\appdata\\local\\programs\\python\\python38\\lib\\site-packages)\n",
      "WARNING: Ignoring invalid distribution -illow (c:\\users\\vitor\\appdata\\local\\programs\\python\\python38\\lib\\site-packages)\n",
      "WARNING: Ignoring invalid distribution -illow (c:\\users\\vitor\\appdata\\local\\programs\\python\\python38\\lib\\site-packages)\n",
      "WARNING: Ignoring invalid distribution -illow (c:\\users\\vitor\\appdata\\local\\programs\\python\\python38\\lib\\site-packages)\n",
      "WARNING: Ignoring invalid distribution -illow (c:\\users\\vitor\\appdata\\local\\programs\\python\\python38\\lib\\site-packages)\n",
      "WARNING: Ignoring invalid distribution -illow (c:\\users\\vitor\\appdata\\local\\programs\\python\\python38\\lib\\site-packages)\n",
      "WARNING: You are using pip version 22.0.2; however, version 22.0.3 is available.\n",
      "You should consider upgrading via the 'c:\\users\\vitor\\appdata\\local\\programs\\python\\python38\\python.exe -m pip install --upgrade pip' command.\n",
      "WARNING: Ignoring invalid distribution -illow (c:\\users\\vitor\\appdata\\local\\programs\\python\\python38\\lib\\site-packages)\n",
      "WARNING: Ignoring invalid distribution -illow (c:\\users\\vitor\\appdata\\local\\programs\\python\\python38\\lib\\site-packages)\n",
      "WARNING: Ignoring invalid distribution -illow (c:\\users\\vitor\\appdata\\local\\programs\\python\\python38\\lib\\site-packages)\n",
      "WARNING: Ignoring invalid distribution -illow (c:\\users\\vitor\\appdata\\local\\programs\\python\\python38\\lib\\site-packages)\n",
      "WARNING: Ignoring invalid distribution -illow (c:\\users\\vitor\\appdata\\local\\programs\\python\\python38\\lib\\site-packages)\n",
      "WARNING: Ignoring invalid distribution -illow (c:\\users\\vitor\\appdata\\local\\programs\\python\\python38\\lib\\site-packages)\n",
      "WARNING: You are using pip version 22.0.2; however, version 22.0.3 is available.\n",
      "You should consider upgrading via the 'c:\\users\\vitor\\appdata\\local\\programs\\python\\python38\\python.exe -m pip install --upgrade pip' command.\n"
     ]
    }
   ],
   "source": [
    "!pip -q install pandas\n",
    "!pip -q install unidecode\n",
    "!pip -q install nltk\n",
    "!pip -q install sklearn"
   ]
  },
  {
   "cell_type": "code",
   "execution_count": 33,
   "metadata": {},
   "outputs": [],
   "source": [
    "import pandas as pd\n",
    "import numpy as np\n",
    "\n",
    "from scipy.cluster import hierarchy\n",
    "\n",
    "import sklearn.metrics as metrics\n",
    "from sklearn.feature_extraction.text import TfidfVectorizer\n",
    "from sklearn.decomposition import TruncatedSVD\n",
    "from sklearn.cluster import KMeans\n",
    "from sklearn.metrics import silhouette_score\n",
    "\n",
    "#import limpeza dos dados\n",
    "import nltk\n",
    "import unidecode\n",
    "import string\n",
    "from nltk import word_tokenize\n",
    "from nltk.corpus import stopwords\n",
    "from nltk.stem.porter import PorterStemmer\n",
    "from nltk.stem import WordNetLemmatizer"
   ]
  },
  {
   "cell_type": "code",
   "execution_count": 34,
   "metadata": {
    "pycharm": {
     "name": "#%%\n"
    }
   },
   "outputs": [],
   "source": [
    "\n",
    "df_base = pd.read_json('goodreads_books.json')\n",
    "n_samples = 1000\n",
    "\n",
    "#df_mini = df_base.sample(n=n_samples, random_state=1)\n",
    "#df_mini.head()"
   ]
  },
  {
   "cell_type": "code",
   "execution_count": 35,
   "metadata": {},
   "outputs": [
    {
     "data": {
      "text/html": [
       "<div>\n",
       "<style scoped>\n",
       "    .dataframe tbody tr th:only-of-type {\n",
       "        vertical-align: middle;\n",
       "    }\n",
       "\n",
       "    .dataframe tbody tr th {\n",
       "        vertical-align: top;\n",
       "    }\n",
       "\n",
       "    .dataframe thead th {\n",
       "        text-align: right;\n",
       "    }\n",
       "</style>\n",
       "<table border=\"1\" class=\"dataframe\">\n",
       "  <thead>\n",
       "    <tr style=\"text-align: right;\">\n",
       "      <th></th>\n",
       "      <th>book_id</th>\n",
       "      <th>description</th>\n",
       "      <th>genre</th>\n",
       "      <th>language_code</th>\n",
       "    </tr>\n",
       "  </thead>\n",
       "  <tbody>\n",
       "    <tr>\n",
       "      <th>29584</th>\n",
       "      <td>27237230</td>\n",
       "      <td>Laureate na nOg Eoin Colfer, author of the bes...</td>\n",
       "      <td>children</td>\n",
       "      <td>eng</td>\n",
       "    </tr>\n",
       "    <tr>\n",
       "      <th>27290</th>\n",
       "      <td>30267927</td>\n",
       "      <td>DreamWorks Animation's TROLLS is an irreverent...</td>\n",
       "      <td>children</td>\n",
       "      <td>eng</td>\n",
       "    </tr>\n",
       "    <tr>\n",
       "      <th>8046</th>\n",
       "      <td>16250909</td>\n",
       "      <td>Yoko and her mama are going on a trip to Japan...</td>\n",
       "      <td>children</td>\n",
       "      <td>eng</td>\n",
       "    </tr>\n",
       "    <tr>\n",
       "      <th>28484</th>\n",
       "      <td>17428684</td>\n",
       "      <td>Minnie and friends get ready to pamper their p...</td>\n",
       "      <td>children</td>\n",
       "      <td>eng</td>\n",
       "    </tr>\n",
       "    <tr>\n",
       "      <th>31456</th>\n",
       "      <td>30135659</td>\n",
       "      <td>One summer's day. ten-year-old India Opal Bulo...</td>\n",
       "      <td>children</td>\n",
       "      <td>eng</td>\n",
       "    </tr>\n",
       "  </tbody>\n",
       "</table>\n",
       "</div>"
      ],
      "text/plain": [
       "        book_id                                        description     genre  \\\n",
       "29584  27237230  Laureate na nOg Eoin Colfer, author of the bes...  children   \n",
       "27290  30267927  DreamWorks Animation's TROLLS is an irreverent...  children   \n",
       "8046   16250909  Yoko and her mama are going on a trip to Japan...  children   \n",
       "28484  17428684  Minnie and friends get ready to pamper their p...  children   \n",
       "31456  30135659  One summer's day. ten-year-old India Opal Bulo...  children   \n",
       "\n",
       "      language_code  \n",
       "29584           eng  \n",
       "27290           eng  \n",
       "8046            eng  \n",
       "28484           eng  \n",
       "31456           eng  "
      ]
     },
     "execution_count": 35,
     "metadata": {},
     "output_type": "execute_result"
    }
   ],
   "source": [
    "df_mini = pd.DataFrame(data=None, columns=df_base.columns)\n",
    "PER_GENRE = 300\n",
    "for g in df_base['genre'].unique():\n",
    "    aux_df = df_base[df_base.genre == g].sample(PER_GENRE, random_state=7)\n",
    "    df_mini = pd.concat([df_mini, aux_df], axis=0)\n",
    "df_mini.head()"
   ]
  },
  {
   "cell_type": "code",
   "execution_count": 36,
   "metadata": {},
   "outputs": [
    {
     "data": {
      "text/plain": [
       "children                  300\n",
       "comics_graphic            300\n",
       "young_adult               300\n",
       "mystery_thriller_crime    300\n",
       "romance                   300\n",
       "history_biography         300\n",
       "fantasy_paranormal        300\n",
       "poetry                    300\n",
       "Name: genre, dtype: int64"
      ]
     },
     "execution_count": 36,
     "metadata": {},
     "output_type": "execute_result"
    }
   ],
   "source": [
    "df_mini['genre'].value_counts()"
   ]
  },
  {
   "cell_type": "markdown",
   "metadata": {
    "pycharm": {
     "name": "#%% md\n"
    }
   },
   "source": [
    "## Limpeza dos dados"
   ]
  },
  {
   "cell_type": "code",
   "execution_count": 37,
   "metadata": {
    "pycharm": {
     "name": "#%%\n"
    }
   },
   "outputs": [
    {
     "name": "stderr",
     "output_type": "stream",
     "text": [
      "[nltk_data] Downloading package punkt to\n",
      "[nltk_data]     C:\\Users\\vitor\\AppData\\Roaming\\nltk_data...\n",
      "[nltk_data]   Package punkt is already up-to-date!\n",
      "[nltk_data] Downloading package stopwords to\n",
      "[nltk_data]     C:\\Users\\vitor\\AppData\\Roaming\\nltk_data...\n",
      "[nltk_data]   Package stopwords is already up-to-date!\n",
      "[nltk_data] Downloading package wordnet to\n",
      "[nltk_data]     C:\\Users\\vitor\\AppData\\Roaming\\nltk_data...\n",
      "[nltk_data]   Package wordnet is already up-to-date!\n",
      "[nltk_data] Downloading package omw-1.4 to\n",
      "[nltk_data]     C:\\Users\\vitor\\AppData\\Roaming\\nltk_data...\n",
      "[nltk_data]   Package omw-1.4 is already up-to-date!\n"
     ]
    },
    {
     "data": {
      "text/plain": [
       "True"
      ]
     },
     "execution_count": 37,
     "metadata": {},
     "output_type": "execute_result"
    }
   ],
   "source": [
    "nltk.download('punkt')\n",
    "nltk.download('stopwords')\n",
    "nltk.download('wordnet')\n",
    "nltk.download('omw-1.4')"
   ]
  },
  {
   "cell_type": "code",
   "execution_count": 38,
   "metadata": {
    "collapsed": false,
    "pycharm": {
     "name": "#%%\n"
    }
   },
   "outputs": [],
   "source": [
    "def remove_specials(tokens):\n",
    "    return [unidecode.unidecode(word) for word in tokens]\n",
    "\n",
    "def remove_punctuation(tokens):\n",
    "    table = str.maketrans(\"\",\"\",string.punctuation)\n",
    "    return [w.translate(table) for w in tokens]\n",
    "\n",
    "def array_lower(tokens):\n",
    "    return [w.lower() for w in tokens]\n",
    "\n",
    "def remove_no_words(tokens):\n",
    "    return [word for word in tokens if word.isalpha()]\n",
    "\n",
    "def remove_stop_words(tokens):\n",
    "    stop_words = set(stopwords.words('english'))\n",
    "    return [w for w in tokens if not w in stop_words]\n",
    "\n",
    "def text_clean(df_text_column, log=False):\n",
    "    if log: print(\"Starting\")\n",
    "\n",
    "    # Dividindo texto em tokens\n",
    "    df_text_column = df_text_column.apply(word_tokenize)\n",
    "\n",
    "    if log: print(\"Tokens split done\")  # Some log\n",
    "\n",
    "    # Convertendo texto para minusculo\n",
    "    df_text_column = df_text_column.apply(array_lower)\n",
    "\n",
    "    if log: print(\"Upper letters converted to normal\")\n",
    "\n",
    "    # Removendo pontuação\n",
    "    df_text_column = df_text_column.apply(remove_punctuation)\n",
    "\n",
    "    if log: print(\"Removed punctiation\")\n",
    "\n",
    "    # Removendo caracteres especiais\n",
    "    df_text_column = df_text_column.apply(remove_specials)\n",
    "\n",
    "    if log: print(\"Specials chars removed\")\n",
    "\n",
    "    # Removendo tokens que não sao palavras\n",
    "    df_text_column = df_text_column.apply(remove_no_words)\n",
    "\n",
    "    if log: print(\"Removed non-words tokens\")\n",
    "\n",
    "    # Removendo tokens que são stop words\n",
    "    df_text_column = df_text_column.apply(remove_stop_words)\n",
    "\n",
    "    if log: print(\"Removed tokens that are stop-words\\nFinished\")\n",
    "\n",
    "    return df_text_column\n"
   ]
  },
  {
   "cell_type": "code",
   "execution_count": 39,
   "metadata": {
    "collapsed": false,
    "pycharm": {
     "name": "#%%\n"
    }
   },
   "outputs": [],
   "source": [
    "# Auxiliar log function\n",
    "def size_df(d):\n",
    "    print(\"Size=\", d.memory_usage(deep=True).sum()/10**9, \"GB\")"
   ]
  },
  {
   "cell_type": "code",
   "execution_count": 40,
   "metadata": {
    "pycharm": {
     "name": "#%%\n"
    }
   },
   "outputs": [
    {
     "data": {
      "text/html": [
       "<div>\n",
       "<style scoped>\n",
       "    .dataframe tbody tr th:only-of-type {\n",
       "        vertical-align: middle;\n",
       "    }\n",
       "\n",
       "    .dataframe tbody tr th {\n",
       "        vertical-align: top;\n",
       "    }\n",
       "\n",
       "    .dataframe thead th {\n",
       "        text-align: right;\n",
       "    }\n",
       "</style>\n",
       "<table border=\"1\" class=\"dataframe\">\n",
       "  <thead>\n",
       "    <tr style=\"text-align: right;\">\n",
       "      <th></th>\n",
       "      <th>book_id</th>\n",
       "      <th>description</th>\n",
       "      <th>genre</th>\n",
       "      <th>language_code</th>\n",
       "    </tr>\n",
       "  </thead>\n",
       "  <tbody>\n",
       "    <tr>\n",
       "      <th>29584</th>\n",
       "      <td>27237230</td>\n",
       "      <td>[laureate, na, nog, eoin, colfer, author, best...</td>\n",
       "      <td>children</td>\n",
       "      <td>eng</td>\n",
       "    </tr>\n",
       "    <tr>\n",
       "      <th>27290</th>\n",
       "      <td>30267927</td>\n",
       "      <td>[dreamworks, animation, trolls, irreverent, co...</td>\n",
       "      <td>children</td>\n",
       "      <td>eng</td>\n",
       "    </tr>\n",
       "    <tr>\n",
       "      <th>8046</th>\n",
       "      <td>16250909</td>\n",
       "      <td>[yoko, mama, going, trip, japan, yoko, helps, ...</td>\n",
       "      <td>children</td>\n",
       "      <td>eng</td>\n",
       "    </tr>\n",
       "    <tr>\n",
       "      <th>28484</th>\n",
       "      <td>17428684</td>\n",
       "      <td>[minnie, friends, get, ready, pamper, pets, mi...</td>\n",
       "      <td>children</td>\n",
       "      <td>eng</td>\n",
       "    </tr>\n",
       "    <tr>\n",
       "      <th>31456</th>\n",
       "      <td>30135659</td>\n",
       "      <td>[one, summer, day, tenyearold, india, opal, bu...</td>\n",
       "      <td>children</td>\n",
       "      <td>eng</td>\n",
       "    </tr>\n",
       "  </tbody>\n",
       "</table>\n",
       "</div>"
      ],
      "text/plain": [
       "        book_id                                        description     genre  \\\n",
       "29584  27237230  [laureate, na, nog, eoin, colfer, author, best...  children   \n",
       "27290  30267927  [dreamworks, animation, trolls, irreverent, co...  children   \n",
       "8046   16250909  [yoko, mama, going, trip, japan, yoko, helps, ...  children   \n",
       "28484  17428684  [minnie, friends, get, ready, pamper, pets, mi...  children   \n",
       "31456  30135659  [one, summer, day, tenyearold, india, opal, bu...  children   \n",
       "\n",
       "      language_code  \n",
       "29584           eng  \n",
       "27290           eng  \n",
       "8046            eng  \n",
       "28484           eng  \n",
       "31456           eng  "
      ]
     },
     "execution_count": 40,
     "metadata": {},
     "output_type": "execute_result"
    }
   ],
   "source": [
    "df_mini['description'] = text_clean(df_mini['description'])\n",
    "df_mini.head()"
   ]
  },
  {
   "cell_type": "code",
   "execution_count": 41,
   "metadata": {
    "pycharm": {
     "name": "#%%\n"
    }
   },
   "outputs": [],
   "source": [
    "# df_base.loc[51285, 'description'] # Noisy data"
   ]
  },
  {
   "cell_type": "markdown",
   "metadata": {
    "collapsed": false,
    "pycharm": {
     "name": "#%% md\n"
    }
   },
   "source": [
    "# Lemmazation\n",
    "Instead of Stemming who reduce inflexions to your base word we could use instead the Lemmazation approuch which groups differented inflexions form of a word"
   ]
  },
  {
   "cell_type": "raw",
   "metadata": {
    "collapsed": false,
    "pycharm": {
     "name": "#%% raw\n"
    }
   },
   "source": [
    "wordnet_lemmatizer = WordNetLemmatizer()\n",
    "lemmazation = lambda words: [wordnet_lemmatizer.lemmatize(tk) for tk in words]\n",
    "df_mini['description'] = df_mini['description'].apply(lemmazation)\n",
    "df_mini.head()"
   ]
  },
  {
   "cell_type": "markdown",
   "metadata": {
    "collapsed": false,
    "pycharm": {
     "name": "#%% md\n"
    }
   },
   "source": [
    "<h2 style=\"color:#ff3344\">Observation</h2>\n",
    "<span>The code above was converted to a raw cell in order to don't execute until we have a proof that <b>Lemmazation</b> is useful</span>"
   ]
  },
  {
   "cell_type": "markdown",
   "metadata": {
    "collapsed": false
   },
   "source": [
    "# Stemming"
   ]
  },
  {
   "cell_type": "code",
   "execution_count": 42,
   "metadata": {
    "collapsed": false,
    "pycharm": {
     "name": "#%%\n"
    }
   },
   "outputs": [
    {
     "data": {
      "text/html": [
       "<div>\n",
       "<style scoped>\n",
       "    .dataframe tbody tr th:only-of-type {\n",
       "        vertical-align: middle;\n",
       "    }\n",
       "\n",
       "    .dataframe tbody tr th {\n",
       "        vertical-align: top;\n",
       "    }\n",
       "\n",
       "    .dataframe thead th {\n",
       "        text-align: right;\n",
       "    }\n",
       "</style>\n",
       "<table border=\"1\" class=\"dataframe\">\n",
       "  <thead>\n",
       "    <tr style=\"text-align: right;\">\n",
       "      <th></th>\n",
       "      <th>book_id</th>\n",
       "      <th>description</th>\n",
       "      <th>genre</th>\n",
       "      <th>language_code</th>\n",
       "    </tr>\n",
       "  </thead>\n",
       "  <tbody>\n",
       "    <tr>\n",
       "      <th>29584</th>\n",
       "      <td>27237230</td>\n",
       "      <td>[laureat, na, nog, eoin, colfer, author, bests...</td>\n",
       "      <td>children</td>\n",
       "      <td>eng</td>\n",
       "    </tr>\n",
       "    <tr>\n",
       "      <th>27290</th>\n",
       "      <td>30267927</td>\n",
       "      <td>[dreamwork, anim, troll, irrever, comedi, extr...</td>\n",
       "      <td>children</td>\n",
       "      <td>eng</td>\n",
       "    </tr>\n",
       "    <tr>\n",
       "      <th>8046</th>\n",
       "      <td>16250909</td>\n",
       "      <td>[yoko, mama, go, trip, japan, yoko, help, mama...</td>\n",
       "      <td>children</td>\n",
       "      <td>eng</td>\n",
       "    </tr>\n",
       "    <tr>\n",
       "      <th>28484</th>\n",
       "      <td>17428684</td>\n",
       "      <td>[minni, friend, get, readi, pamper, pet, minni...</td>\n",
       "      <td>children</td>\n",
       "      <td>eng</td>\n",
       "    </tr>\n",
       "    <tr>\n",
       "      <th>31456</th>\n",
       "      <td>30135659</td>\n",
       "      <td>[one, summer, day, tenyearold, india, opal, bu...</td>\n",
       "      <td>children</td>\n",
       "      <td>eng</td>\n",
       "    </tr>\n",
       "  </tbody>\n",
       "</table>\n",
       "</div>"
      ],
      "text/plain": [
       "        book_id                                        description     genre  \\\n",
       "29584  27237230  [laureat, na, nog, eoin, colfer, author, bests...  children   \n",
       "27290  30267927  [dreamwork, anim, troll, irrever, comedi, extr...  children   \n",
       "8046   16250909  [yoko, mama, go, trip, japan, yoko, help, mama...  children   \n",
       "28484  17428684  [minni, friend, get, readi, pamper, pet, minni...  children   \n",
       "31456  30135659  [one, summer, day, tenyearold, india, opal, bu...  children   \n",
       "\n",
       "      language_code  \n",
       "29584           eng  \n",
       "27290           eng  \n",
       "8046            eng  \n",
       "28484           eng  \n",
       "31456           eng  "
      ]
     },
     "execution_count": 42,
     "metadata": {},
     "output_type": "execute_result"
    }
   ],
   "source": [
    "porter = PorterStemmer()\n",
    "stemmized = lambda d: [porter.stem(tk) for tk in d]\n",
    "df_mini['description'] = df_mini['description'].apply(stemmized)\n",
    "df_mini.head()"
   ]
  },
  {
   "cell_type": "markdown",
   "metadata": {
    "collapsed": false,
    "pycharm": {
     "name": "#%% md\n"
    }
   },
   "source": [
    "# TFIDF\n"
   ]
  },
  {
   "cell_type": "markdown",
   "metadata": {
    "collapsed": false,
    "pycharm": {
     "name": "#%% md\n"
    }
   },
   "source": [
    "### Using the hand made preprocessor"
   ]
  },
  {
   "cell_type": "code",
   "execution_count": 43,
   "metadata": {
    "collapsed": false,
    "pycharm": {
     "name": "#%%\n"
    }
   },
   "outputs": [
    {
     "data": {
      "text/html": [
       "<div>\n",
       "<style scoped>\n",
       "    .dataframe tbody tr th:only-of-type {\n",
       "        vertical-align: middle;\n",
       "    }\n",
       "\n",
       "    .dataframe tbody tr th {\n",
       "        vertical-align: top;\n",
       "    }\n",
       "\n",
       "    .dataframe thead th {\n",
       "        text-align: right;\n",
       "    }\n",
       "</style>\n",
       "<table border=\"1\" class=\"dataframe\">\n",
       "  <thead>\n",
       "    <tr style=\"text-align: right;\">\n",
       "      <th></th>\n",
       "      <th>aa</th>\n",
       "      <th>aan</th>\n",
       "      <th>aanslag</th>\n",
       "      <th>aantal</th>\n",
       "      <th>aardvark</th>\n",
       "      <th>aaron</th>\n",
       "      <th>abandon</th>\n",
       "      <th>abbadon</th>\n",
       "      <th>abbey</th>\n",
       "      <th>abbeybeast</th>\n",
       "      <th>...</th>\n",
       "      <th>zub</th>\n",
       "      <th>zuckerman</th>\n",
       "      <th>zur</th>\n",
       "      <th>zurael</th>\n",
       "      <th>zusak</th>\n",
       "      <th>zusj</th>\n",
       "      <th>zvezd</th>\n",
       "      <th>zwei</th>\n",
       "      <th>zwerg</th>\n",
       "      <th>zyzzyva</th>\n",
       "    </tr>\n",
       "  </thead>\n",
       "  <tbody>\n",
       "    <tr>\n",
       "      <th>0</th>\n",
       "      <td>0.0</td>\n",
       "      <td>0.0</td>\n",
       "      <td>0.0</td>\n",
       "      <td>0.0</td>\n",
       "      <td>0.0</td>\n",
       "      <td>0.0</td>\n",
       "      <td>0.0</td>\n",
       "      <td>0.0</td>\n",
       "      <td>0.0</td>\n",
       "      <td>0.0</td>\n",
       "      <td>...</td>\n",
       "      <td>0.0</td>\n",
       "      <td>0.0</td>\n",
       "      <td>0.0</td>\n",
       "      <td>0.0</td>\n",
       "      <td>0.0</td>\n",
       "      <td>0.0</td>\n",
       "      <td>0.0</td>\n",
       "      <td>0.0</td>\n",
       "      <td>0.0</td>\n",
       "      <td>0.0</td>\n",
       "    </tr>\n",
       "    <tr>\n",
       "      <th>1</th>\n",
       "      <td>0.0</td>\n",
       "      <td>0.0</td>\n",
       "      <td>0.0</td>\n",
       "      <td>0.0</td>\n",
       "      <td>0.0</td>\n",
       "      <td>0.0</td>\n",
       "      <td>0.0</td>\n",
       "      <td>0.0</td>\n",
       "      <td>0.0</td>\n",
       "      <td>0.0</td>\n",
       "      <td>...</td>\n",
       "      <td>0.0</td>\n",
       "      <td>0.0</td>\n",
       "      <td>0.0</td>\n",
       "      <td>0.0</td>\n",
       "      <td>0.0</td>\n",
       "      <td>0.0</td>\n",
       "      <td>0.0</td>\n",
       "      <td>0.0</td>\n",
       "      <td>0.0</td>\n",
       "      <td>0.0</td>\n",
       "    </tr>\n",
       "    <tr>\n",
       "      <th>2</th>\n",
       "      <td>0.0</td>\n",
       "      <td>0.0</td>\n",
       "      <td>0.0</td>\n",
       "      <td>0.0</td>\n",
       "      <td>0.0</td>\n",
       "      <td>0.0</td>\n",
       "      <td>0.0</td>\n",
       "      <td>0.0</td>\n",
       "      <td>0.0</td>\n",
       "      <td>0.0</td>\n",
       "      <td>...</td>\n",
       "      <td>0.0</td>\n",
       "      <td>0.0</td>\n",
       "      <td>0.0</td>\n",
       "      <td>0.0</td>\n",
       "      <td>0.0</td>\n",
       "      <td>0.0</td>\n",
       "      <td>0.0</td>\n",
       "      <td>0.0</td>\n",
       "      <td>0.0</td>\n",
       "      <td>0.0</td>\n",
       "    </tr>\n",
       "    <tr>\n",
       "      <th>3</th>\n",
       "      <td>0.0</td>\n",
       "      <td>0.0</td>\n",
       "      <td>0.0</td>\n",
       "      <td>0.0</td>\n",
       "      <td>0.0</td>\n",
       "      <td>0.0</td>\n",
       "      <td>0.0</td>\n",
       "      <td>0.0</td>\n",
       "      <td>0.0</td>\n",
       "      <td>0.0</td>\n",
       "      <td>...</td>\n",
       "      <td>0.0</td>\n",
       "      <td>0.0</td>\n",
       "      <td>0.0</td>\n",
       "      <td>0.0</td>\n",
       "      <td>0.0</td>\n",
       "      <td>0.0</td>\n",
       "      <td>0.0</td>\n",
       "      <td>0.0</td>\n",
       "      <td>0.0</td>\n",
       "      <td>0.0</td>\n",
       "    </tr>\n",
       "    <tr>\n",
       "      <th>4</th>\n",
       "      <td>0.0</td>\n",
       "      <td>0.0</td>\n",
       "      <td>0.0</td>\n",
       "      <td>0.0</td>\n",
       "      <td>0.0</td>\n",
       "      <td>0.0</td>\n",
       "      <td>0.0</td>\n",
       "      <td>0.0</td>\n",
       "      <td>0.0</td>\n",
       "      <td>0.0</td>\n",
       "      <td>...</td>\n",
       "      <td>0.0</td>\n",
       "      <td>0.0</td>\n",
       "      <td>0.0</td>\n",
       "      <td>0.0</td>\n",
       "      <td>0.0</td>\n",
       "      <td>0.0</td>\n",
       "      <td>0.0</td>\n",
       "      <td>0.0</td>\n",
       "      <td>0.0</td>\n",
       "      <td>0.0</td>\n",
       "    </tr>\n",
       "  </tbody>\n",
       "</table>\n",
       "<p>5 rows × 19185 columns</p>\n",
       "</div>"
      ],
      "text/plain": [
       "    aa  aan  aanslag  aantal  aardvark  aaron  abandon  abbadon  abbey  \\\n",
       "0  0.0  0.0      0.0     0.0       0.0    0.0      0.0      0.0    0.0   \n",
       "1  0.0  0.0      0.0     0.0       0.0    0.0      0.0      0.0    0.0   \n",
       "2  0.0  0.0      0.0     0.0       0.0    0.0      0.0      0.0    0.0   \n",
       "3  0.0  0.0      0.0     0.0       0.0    0.0      0.0      0.0    0.0   \n",
       "4  0.0  0.0      0.0     0.0       0.0    0.0      0.0      0.0    0.0   \n",
       "\n",
       "   abbeybeast  ...  zub  zuckerman  zur  zurael  zusak  zusj  zvezd  zwei  \\\n",
       "0         0.0  ...  0.0        0.0  0.0     0.0    0.0   0.0    0.0   0.0   \n",
       "1         0.0  ...  0.0        0.0  0.0     0.0    0.0   0.0    0.0   0.0   \n",
       "2         0.0  ...  0.0        0.0  0.0     0.0    0.0   0.0    0.0   0.0   \n",
       "3         0.0  ...  0.0        0.0  0.0     0.0    0.0   0.0    0.0   0.0   \n",
       "4         0.0  ...  0.0        0.0  0.0     0.0    0.0   0.0    0.0   0.0   \n",
       "\n",
       "   zwerg  zyzzyva  \n",
       "0    0.0      0.0  \n",
       "1    0.0      0.0  \n",
       "2    0.0      0.0  \n",
       "3    0.0      0.0  \n",
       "4    0.0      0.0  \n",
       "\n",
       "[5 rows x 19185 columns]"
      ]
     },
     "execution_count": 43,
     "metadata": {},
     "output_type": "execute_result"
    }
   ],
   "source": [
    "do_nothing = lambda x: x\n",
    "vect_manual = TfidfVectorizer(tokenizer=do_nothing, lowercase=False, preprocessor=do_nothing, ngram_range=(1, 1))\n",
    "freq = vect_manual.fit_transform(df_mini['description'].values.tolist())\n",
    "features = vect_manual.get_feature_names_out()\n",
    "df_freq = pd.DataFrame(data=freq.todense(), columns=features)\n",
    "df_freq.head()"
   ]
  },
  {
   "cell_type": "markdown",
   "metadata": {
    "collapsed": false,
    "pycharm": {
     "name": "#%% md\n"
    }
   },
   "source": [
    "### Using only the class from sklearn"
   ]
  },
  {
   "cell_type": "code",
   "execution_count": 44,
   "metadata": {
    "collapsed": false,
    "pycharm": {
     "name": "#%%\n"
    }
   },
   "outputs": [],
   "source": [
    "# vect = TfidfVectorizer(strip_accents='unicode', stop_words='english', ngram_range=(1, 1))\n",
    "# freq = vect.fit_transform(df_mini['description'].values.tolist())\n",
    "# df_freq = pd.DataFrame(data=freq.todense(), columns=vect.get_feature_names_out())\n",
    "# df_freq.head()"
   ]
  },
  {
   "cell_type": "markdown",
   "metadata": {
    "collapsed": false,
    "pycharm": {
     "name": "#%% md\n"
    }
   },
   "source": [
    "# PCA"
   ]
  },
  {
   "cell_type": "code",
   "execution_count": 45,
   "metadata": {
    "collapsed": false,
    "pycharm": {
     "name": "#%%\n"
    }
   },
   "outputs": [],
   "source": [
    "N_COMPONENTS = 900\n",
    "pca = TruncatedSVD(n_components=N_COMPONENTS)"
   ]
  },
  {
   "cell_type": "code",
   "execution_count": 46,
   "metadata": {
    "collapsed": false,
    "pycharm": {
     "name": "#%%\n"
    }
   },
   "outputs": [
    {
     "name": "stdout",
     "output_type": "stream",
     "text": [
      "Total variance explained: 0.63\n"
     ]
    }
   ],
   "source": [
    "pca.fit(df_freq)\n",
    "print(f\"Total variance explained: {np.sum(pca.explained_variance_ratio_):.2f}\")"
   ]
  },
  {
   "cell_type": "code",
   "execution_count": 47,
   "metadata": {},
   "outputs": [
    {
     "data": {
      "text/html": [
       "<div>\n",
       "<style scoped>\n",
       "    .dataframe tbody tr th:only-of-type {\n",
       "        vertical-align: middle;\n",
       "    }\n",
       "\n",
       "    .dataframe tbody tr th {\n",
       "        vertical-align: top;\n",
       "    }\n",
       "\n",
       "    .dataframe thead th {\n",
       "        text-align: right;\n",
       "    }\n",
       "</style>\n",
       "<table border=\"1\" class=\"dataframe\">\n",
       "  <thead>\n",
       "    <tr style=\"text-align: right;\">\n",
       "      <th></th>\n",
       "      <th>0</th>\n",
       "      <th>1</th>\n",
       "      <th>2</th>\n",
       "      <th>3</th>\n",
       "      <th>4</th>\n",
       "      <th>5</th>\n",
       "      <th>6</th>\n",
       "      <th>7</th>\n",
       "      <th>8</th>\n",
       "      <th>9</th>\n",
       "      <th>...</th>\n",
       "      <th>890</th>\n",
       "      <th>891</th>\n",
       "      <th>892</th>\n",
       "      <th>893</th>\n",
       "      <th>894</th>\n",
       "      <th>895</th>\n",
       "      <th>896</th>\n",
       "      <th>897</th>\n",
       "      <th>898</th>\n",
       "      <th>899</th>\n",
       "    </tr>\n",
       "  </thead>\n",
       "  <tbody>\n",
       "    <tr>\n",
       "      <th>0</th>\n",
       "      <td>0.125962</td>\n",
       "      <td>0.183416</td>\n",
       "      <td>-0.020405</td>\n",
       "      <td>0.049526</td>\n",
       "      <td>-0.038208</td>\n",
       "      <td>0.028843</td>\n",
       "      <td>-0.031698</td>\n",
       "      <td>0.014187</td>\n",
       "      <td>0.054738</td>\n",
       "      <td>-0.023434</td>\n",
       "      <td>...</td>\n",
       "      <td>0.042839</td>\n",
       "      <td>-0.028260</td>\n",
       "      <td>-0.003280</td>\n",
       "      <td>0.016703</td>\n",
       "      <td>0.000806</td>\n",
       "      <td>0.008174</td>\n",
       "      <td>-0.011460</td>\n",
       "      <td>0.005518</td>\n",
       "      <td>-0.022713</td>\n",
       "      <td>0.035823</td>\n",
       "    </tr>\n",
       "    <tr>\n",
       "      <th>1</th>\n",
       "      <td>0.071277</td>\n",
       "      <td>0.018299</td>\n",
       "      <td>-0.029760</td>\n",
       "      <td>0.043566</td>\n",
       "      <td>0.002477</td>\n",
       "      <td>-0.027235</td>\n",
       "      <td>-0.045476</td>\n",
       "      <td>-0.008304</td>\n",
       "      <td>0.005789</td>\n",
       "      <td>-0.032091</td>\n",
       "      <td>...</td>\n",
       "      <td>0.011692</td>\n",
       "      <td>0.021391</td>\n",
       "      <td>-0.023634</td>\n",
       "      <td>0.004281</td>\n",
       "      <td>0.001339</td>\n",
       "      <td>-0.016102</td>\n",
       "      <td>0.018216</td>\n",
       "      <td>-0.024238</td>\n",
       "      <td>0.021195</td>\n",
       "      <td>0.052033</td>\n",
       "    </tr>\n",
       "    <tr>\n",
       "      <th>2</th>\n",
       "      <td>0.071069</td>\n",
       "      <td>-0.000385</td>\n",
       "      <td>0.015279</td>\n",
       "      <td>0.055167</td>\n",
       "      <td>-0.001561</td>\n",
       "      <td>-0.010226</td>\n",
       "      <td>-0.007852</td>\n",
       "      <td>-0.009048</td>\n",
       "      <td>-0.002007</td>\n",
       "      <td>-0.015710</td>\n",
       "      <td>...</td>\n",
       "      <td>0.029886</td>\n",
       "      <td>-0.016619</td>\n",
       "      <td>-0.038042</td>\n",
       "      <td>0.008248</td>\n",
       "      <td>-0.057671</td>\n",
       "      <td>-0.033032</td>\n",
       "      <td>0.014039</td>\n",
       "      <td>-0.007142</td>\n",
       "      <td>-0.021124</td>\n",
       "      <td>-0.013199</td>\n",
       "    </tr>\n",
       "    <tr>\n",
       "      <th>3</th>\n",
       "      <td>0.068139</td>\n",
       "      <td>0.024324</td>\n",
       "      <td>0.019263</td>\n",
       "      <td>0.081969</td>\n",
       "      <td>-0.005339</td>\n",
       "      <td>-0.020759</td>\n",
       "      <td>-0.064221</td>\n",
       "      <td>-0.048384</td>\n",
       "      <td>0.006085</td>\n",
       "      <td>-0.041973</td>\n",
       "      <td>...</td>\n",
       "      <td>0.018543</td>\n",
       "      <td>-0.009992</td>\n",
       "      <td>0.031942</td>\n",
       "      <td>0.034694</td>\n",
       "      <td>0.037066</td>\n",
       "      <td>-0.027286</td>\n",
       "      <td>-0.006475</td>\n",
       "      <td>-0.010814</td>\n",
       "      <td>-0.016882</td>\n",
       "      <td>-0.022913</td>\n",
       "    </tr>\n",
       "    <tr>\n",
       "      <th>4</th>\n",
       "      <td>0.084988</td>\n",
       "      <td>-0.031385</td>\n",
       "      <td>0.011167</td>\n",
       "      <td>0.016359</td>\n",
       "      <td>-0.028902</td>\n",
       "      <td>-0.001508</td>\n",
       "      <td>-0.069091</td>\n",
       "      <td>0.018142</td>\n",
       "      <td>-0.010220</td>\n",
       "      <td>0.032089</td>\n",
       "      <td>...</td>\n",
       "      <td>-0.029429</td>\n",
       "      <td>-0.031068</td>\n",
       "      <td>0.059138</td>\n",
       "      <td>0.003707</td>\n",
       "      <td>-0.017357</td>\n",
       "      <td>0.019415</td>\n",
       "      <td>-0.015642</td>\n",
       "      <td>0.020826</td>\n",
       "      <td>-0.015853</td>\n",
       "      <td>-0.019211</td>\n",
       "    </tr>\n",
       "  </tbody>\n",
       "</table>\n",
       "<p>5 rows × 900 columns</p>\n",
       "</div>"
      ],
      "text/plain": [
       "        0         1         2         3         4         5         6    \\\n",
       "0  0.125962  0.183416 -0.020405  0.049526 -0.038208  0.028843 -0.031698   \n",
       "1  0.071277  0.018299 -0.029760  0.043566  0.002477 -0.027235 -0.045476   \n",
       "2  0.071069 -0.000385  0.015279  0.055167 -0.001561 -0.010226 -0.007852   \n",
       "3  0.068139  0.024324  0.019263  0.081969 -0.005339 -0.020759 -0.064221   \n",
       "4  0.084988 -0.031385  0.011167  0.016359 -0.028902 -0.001508 -0.069091   \n",
       "\n",
       "        7         8         9    ...       890       891       892       893  \\\n",
       "0  0.014187  0.054738 -0.023434  ...  0.042839 -0.028260 -0.003280  0.016703   \n",
       "1 -0.008304  0.005789 -0.032091  ...  0.011692  0.021391 -0.023634  0.004281   \n",
       "2 -0.009048 -0.002007 -0.015710  ...  0.029886 -0.016619 -0.038042  0.008248   \n",
       "3 -0.048384  0.006085 -0.041973  ...  0.018543 -0.009992  0.031942  0.034694   \n",
       "4  0.018142 -0.010220  0.032089  ... -0.029429 -0.031068  0.059138  0.003707   \n",
       "\n",
       "        894       895       896       897       898       899  \n",
       "0  0.000806  0.008174 -0.011460  0.005518 -0.022713  0.035823  \n",
       "1  0.001339 -0.016102  0.018216 -0.024238  0.021195  0.052033  \n",
       "2 -0.057671 -0.033032  0.014039 -0.007142 -0.021124 -0.013199  \n",
       "3  0.037066 -0.027286 -0.006475 -0.010814 -0.016882 -0.022913  \n",
       "4 -0.017357  0.019415 -0.015642  0.020826 -0.015853 -0.019211  \n",
       "\n",
       "[5 rows x 900 columns]"
      ]
     },
     "execution_count": 47,
     "metadata": {},
     "output_type": "execute_result"
    }
   ],
   "source": [
    "freq_reduced = pca.transform(df_freq)\n",
    "df_freq_reduced = pd.DataFrame(data=freq_reduced, columns=list(range(N_COMPONENTS)))\n",
    "df_freq_reduced.head()"
   ]
  },
  {
   "cell_type": "code",
   "execution_count": 48,
   "metadata": {
    "collapsed": false,
    "pycharm": {
     "name": "#%%\n"
    }
   },
   "outputs": [
    {
     "data": {
      "image/png": "[encoded data removed]",
      "text/plain": [
       "<Figure size 504x360 with 1 Axes>"
      ]
     },
     "metadata": {
      "needs_background": "light"
     },
     "output_type": "display_data"
    }
   ],
   "source": [
    "import matplotlib.pyplot as plt\n",
    "import numpy as np\n",
    "fig = plt.figure(figsize=(7, 5))\n",
    "plt.plot([i for i in range(1, pca.n_components + 1)], np.cumsum(pca.explained_variance_ratio_))\n",
    "plt.xlabel(r'$k$ - Número de componentes principais')\n",
    "plt.ylabel(r'$f(k)$ - Fração cumulativa da variância explicada');"
   ]
  },
  {
   "cell_type": "markdown",
   "metadata": {
    "collapsed": false,
    "pycharm": {
     "name": "#%% md\n"
    }
   },
   "source": [
    "Aplicando o número máximo de componentes principais percebemos que talvez seja preciso um aumento no número de samples uma vez que o valor de componentes principais deve estar no intervalo entre\n",
    "$$\\left[0, \\ min(n_{samples} \\ , \\ n_{features}) \\right]$$"
   ]
  },
  {
   "cell_type": "markdown",
   "metadata": {},
   "source": [
    "# Analise da Quantidade de Grupos"
   ]
  },
  {
   "cell_type": "markdown",
   "metadata": {},
   "source": [
    "### Silhoutte score"
   ]
  },
  {
   "cell_type": "code",
   "execution_count": 49,
   "metadata": {},
   "outputs": [
    {
     "data": {
      "text/plain": [
       "Text(0, 0.5, 'Silhouette Score')"
      ]
     },
     "execution_count": 49,
     "metadata": {},
     "output_type": "execute_result"
    },
    {
     "data": {
      "image/png": "[encoded data removed]",
      "text/plain": [
       "<Figure size 432x288 with 1 Axes>"
      ]
     },
     "metadata": {
      "needs_background": "light"
     },
     "output_type": "display_data"
    }
   ],
   "source": [
    "def sc_evaluate_clusters(X, max_clusters, n_init, seed):\n",
    "    s = np.zeros(max_clusters+1)\n",
    "    s[0] = 0\n",
    "    s[1] = 0\n",
    "    for k in range(2, max_clusters+1):\n",
    "        kmeans = KMeans(init='k-means++', n_clusters = k, n_init = n_init, random_state = seed)\n",
    "        kmeans.fit_predict(X)\n",
    "        s[k] = metrics.silhouette_score(X, kmeans.labels_, metric = 'euclidean')\n",
    "    return s\n",
    "\n",
    "s = sc_evaluate_clusters(freq_reduced, 10, 10, 1)\n",
    "plt.plot(range(2, len(s)), s[2:], 'o-')\n",
    "plt.xlabel('Number of Clusters')\n",
    "plt.title('$k$-means clustering performance on synthetic data')\n",
    "plt.ylabel('Silhouette Score')"
   ]
  },
  {
   "cell_type": "markdown",
   "metadata": {},
   "source": [
    "### Dendogram"
   ]
  },
  {
   "cell_type": "code",
   "execution_count": 50,
   "metadata": {},
   "outputs": [
    {
     "data": {
      "text/plain": [
       "(2400, 2400)"
      ]
     },
     "execution_count": 50,
     "metadata": {},
     "output_type": "execute_result"
    }
   ],
   "source": [
    "euclidian_dists = metrics.euclidean_distances(df_freq_reduced.values)\n",
    "euclidian_dists.shape"
   ]
  },
  {
   "cell_type": "code",
   "execution_count": 51,
   "metadata": {},
   "outputs": [
    {
     "name": "stderr",
     "output_type": "stream",
     "text": [
      "<ipython-input-51-f0899bcf4a1a>:1: ClusterWarning: scipy.cluster: The symmetric non-negative hollow observation matrix looks suspiciously like an uncondensed distance matrix\n",
      "  eucli_dists = hierarchy.linkage(euclidian_dists)\n"
     ]
    },
    {
     "data": {
      "image/png": "[encoded data removed]",
      "text/plain": [
       "<Figure size 432x288 with 1 Axes>"
      ]
     },
     "metadata": {
      "needs_background": "light"
     },
     "output_type": "display_data"
    }
   ],
   "source": [
    "eucli_dists = hierarchy.linkage(euclidian_dists)\n",
    "hierarchy.dendrogram(eucli_dists, color_threshold=1)\n",
    "# plt.figure(facecolor='white')\n",
    "plt.xticks([], [])\n",
    "plt.ylabel('Distância')\n",
    "plt.xlabel('Objetos')\n",
    "plt.show()"
   ]
  },
  {
   "cell_type": "markdown",
   "metadata": {},
   "source": [
    "### MDS"
   ]
  },
  {
   "cell_type": "code",
   "execution_count": 52,
   "metadata": {},
   "outputs": [
    {
     "data": {
      "text/plain": [
       "'\\nimport sklearn.manifold\\nmds = sklearn.manifold.MDS(n_components=2, max_iter=1000, eps=1e-9, random_state=0,\\n                   dissimilarity = \"precomputed\")\\nfit = mds.fit(euclidian_dists)\\npos = fit.embedding_\\nplt.scatter(pos[:, 0], pos[:, 1], s=8)\\nplt.axis(\\'square\\')\\n'"
      ]
     },
     "execution_count": 52,
     "metadata": {},
     "output_type": "execute_result"
    }
   ],
   "source": [
    "'''\n",
    "import sklearn.manifold\n",
    "mds = sklearn.manifold.MDS(n_components=2, max_iter=1000, eps=1e-9, random_state=0,\n",
    "                   dissimilarity = \"precomputed\")\n",
    "fit = mds.fit(euclidian_dists)\n",
    "pos = fit.embedding_\n",
    "plt.scatter(pos[:, 0], pos[:, 1], s=8)\n",
    "plt.axis('square')\n",
    "'''"
   ]
  },
  {
   "cell_type": "code",
   "execution_count": 65,
   "metadata": {},
   "outputs": [
    {
     "name": "stdout",
     "output_type": "stream",
     "text": [
      "For n_clusters = 2 The average silhouette_score is : 0.004475003096368191\n",
      "For n_clusters = 3 The average silhouette_score is : 0.00361230423254095\n",
      "For n_clusters = 4 The average silhouette_score is : 0.0036842137517859794\n",
      "For n_clusters = 5 The average silhouette_score is : 0.002827467108314341\n",
      "For n_clusters = 6 The average silhouette_score is : 0.0037865101917494495\n",
      "For n_clusters = 7 The average silhouette_score is : 0.0033900465267332138\n",
      "For n_clusters = 8 The average silhouette_score is : 0.003791519740274772\n"
     ]
    },
    {
     "data": {
      "image/png": "[encoded data removed]",
      "text/plain": [
       "<Figure size 432x288 with 1 Axes>"
      ]
     },
     "metadata": {
      "needs_background": "light"
     },
     "output_type": "display_data"
    },
    {
     "data": {
      "image/png": "[encoded data removed]",
      "text/plain": [
       "<Figure size 432x288 with 1 Axes>"
      ]
     },
     "metadata": {
      "needs_background": "light"
     },
     "output_type": "display_data"
    },
    {
     "data": {
      "image/png": "[encoded data removed]",
      "text/plain": [
       "<Figure size 432x288 with 1 Axes>"
      ]
     },
     "metadata": {
      "needs_background": "light"
     },
     "output_type": "display_data"
    },
    {
     "data": {
      "image/png": "[encoded data removed]",
      "text/plain": [
       "<Figure size 432x288 with 1 Axes>"
      ]
     },
     "metadata": {
      "needs_background": "light"
     },
     "output_type": "display_data"
    },
    {
     "data": {
      "image/png": "[encoded data removed]",
      "text/plain": [
       "<Figure size 432x288 with 1 Axes>"
      ]
     },
     "metadata": {
      "needs_background": "light"
     },
     "output_type": "display_data"
    },
    {
     "data": {
      "image/png": "[encoded data removed]",
      "text/plain": [
       "<Figure size 432x288 with 1 Axes>"
      ]
     },
     "metadata": {
      "needs_background": "light"
     },
     "output_type": "display_data"
    },
    {
     "data": {
      "image/png": "[encoded data removed]",
      "text/plain": [
       "<Figure size 432x288 with 1 Axes>"
      ]
     },
     "metadata": {
      "needs_background": "light"
     },
     "output_type": "display_data"
    }
   ],
   "source": [
    "from sklearn.cluster import KMeans\n",
    "from sklearn.metrics import silhouette_samples, silhouette_score\n",
    "\n",
    "import matplotlib.cm as cm\n",
    "\n",
    "range_n_clusters = [2, 3, 4, 5, 6,7,8]\n",
    "\n",
    "for n_clusters in range_n_clusters:\n",
    "    # Create a subplot with 1 row and 2 columns\n",
    "    fig, (ax1) = plt.subplots(1, 1)\n",
    "    #fig.set_size_inches(9, 7)\n",
    "\n",
    "    # The 1st subplot is the silhouette plot\n",
    "    # The silhouette coefficient can range from -1, 1 but in this example all\n",
    "    # lie within [-0.1, 1]\n",
    "    #ax1.set_xlim([-0.1, 1])\n",
    "    # The (n_clusters+1)*10 is for inserting blank space between silhouette\n",
    "    # plots of individual clusters, to demarcate them clearly.\n",
    "    ax1.set_ylim([0, len(df_freq_reduced) + (n_clusters + 1) * 10])\n",
    "\n",
    "    # Initialize the clusterer with n_clusters value and a random generator\n",
    "    # seed of 10 for reproducibility.\n",
    "    clusterer = KMeans(n_clusters=n_clusters, random_state=10)\n",
    "    cluster_labels = clusterer.fit_predict(df_freq_reduced)\n",
    "\n",
    "    # The silhouette_score gives the average value for all the samples.\n",
    "    # This gives a perspective into the density and separation of the formed\n",
    "    # clusters\n",
    "    silhouette_avg = silhouette_score(df_freq_reduced, cluster_labels)\n",
    "    print(\n",
    "        \"For n_clusters =\",\n",
    "        n_clusters,\n",
    "        \"The average silhouette_score is :\",\n",
    "        silhouette_avg,\n",
    "    )\n",
    "\n",
    "    # Compute the silhouette scores for each sample\n",
    "    sample_silhouette_values = silhouette_samples(df_freq_reduced, cluster_labels)\n",
    "\n",
    "    y_lower = 10\n",
    "    for i in range(n_clusters):\n",
    "        # Aggregate the silhouette scores for samples belonging to\n",
    "        # cluster i, and sort them\n",
    "        ith_cluster_silhouette_values = sample_silhouette_values[cluster_labels == i]\n",
    "\n",
    "        ith_cluster_silhouette_values.sort()\n",
    "\n",
    "        size_cluster_i = ith_cluster_silhouette_values.shape[0]\n",
    "        y_upper = y_lower + size_cluster_i\n",
    "\n",
    "        color = cm.nipy_spectral(float(i) / n_clusters)\n",
    "        ax1.fill_betweenx(\n",
    "            np.arange(y_lower, y_upper),\n",
    "            0,\n",
    "            ith_cluster_silhouette_values,\n",
    "            facecolor=color,\n",
    "            edgecolor=color,\n",
    "            alpha=0.7,\n",
    "        )\n",
    "\n",
    "        # Label the silhouette plots with their cluster numbers at the middle\n",
    "        ax1.text(-0.05, y_lower + 0.5 * size_cluster_i, str(i))\n",
    "\n",
    "        # Compute the new y_lower for next plot\n",
    "        y_lower = y_upper + 10  # 10 for the 0 samples\n",
    "\n",
    "    ax1.set_title(\"The silhouette plot for the various clusters.\")\n",
    "    ax1.set_xlabel(\"The silhouette coefficient values\")\n",
    "    ax1.set_ylabel(\"Cluster label\")\n",
    "\n",
    "    # The vertical line for average silhouette score of all the values\n",
    "    ax1.axvline(x=silhouette_avg, color=\"red\", linestyle=\"--\")\n",
    "\n",
    "    ax1.set_yticks([])  # Clear the yaxis labels / ticks\n",
    "    #ax1.set_xticks([-0.1, 0, 0.2, 0.4, 0.6, 0.8, 1])\n",
    "\n",
    "    plt.suptitle(\n",
    "        \"Silhouette analysis for KMeans clustering on sample data with n_clusters = %d\"\n",
    "        % n_clusters,\n",
    "        fontsize=14,\n",
    "        fontweight=\"bold\",\n",
    "    )"
   ]
  },
  {
   "cell_type": "markdown",
   "metadata": {},
   "source": [
    "# K-means"
   ]
  },
  {
   "cell_type": "code",
   "execution_count": 94,
   "metadata": {},
   "outputs": [
    {
     "name": "stdout",
     "output_type": "stream",
     "text": [
      "8\n"
     ]
    }
   ],
   "source": [
    "num_labels = df_mini['genre'].unique().size\n",
    "print(num_labels)"
   ]
  },
  {
   "cell_type": "code",
   "execution_count": 95,
   "metadata": {
    "collapsed": false,
    "pycharm": {
     "name": "#%%\n"
    }
   },
   "outputs": [
    {
     "data": {
      "text/plain": [
       "array([0, 4, 4, ..., 5, 5, 4])"
      ]
     },
     "execution_count": 95,
     "metadata": {},
     "output_type": "execute_result"
    }
   ],
   "source": [
    "N_CLUSTERS = 6\n",
    "model = KMeans(n_clusters=N_CLUSTERS, random_state=42)\n",
    "y_pred_k_means = model.fit_predict(df_freq_reduced)\n",
    "# word_positions = {v: k for k, v in vectorizer.vocabulary_.items()}\n",
    "# cluster_ids = generate_wordclouds(X_svd, X_tfidf, 2, word_positions)\n",
    "y_pred_k_means"
   ]
  },
  {
   "cell_type": "code",
   "execution_count": 96,
   "metadata": {
    "collapsed": false,
    "pycharm": {
     "name": "#%%\n"
    }
   },
   "outputs": [
    {
     "data": {
      "text/plain": [
       "<AxesSubplot:>"
      ]
     },
     "execution_count": 96,
     "metadata": {},
     "output_type": "execute_result"
    },
    {
     "data": {
      "image/png": "[encoded data removed]",
      "text/plain": [
       "<Figure size 432x288 with 1 Axes>"
      ]
     },
     "metadata": {
      "needs_background": "light"
     },
     "output_type": "display_data"
    }
   ],
   "source": [
    "df_mini['pred_k_means'] = y_pred_k_means\n",
    "\n",
    "df_mini['pred_k_means'].value_counts().plot(kind = 'bar')"
   ]
  },
  {
   "cell_type": "markdown",
   "metadata": {},
   "source": [
    "# Agrupamento Hierarquico"
   ]
  },
  {
   "cell_type": "code",
   "execution_count": 97,
   "metadata": {},
   "outputs": [
    {
     "data": {
      "text/plain": [
       "array([1, 1, 1, ..., 0, 1, 1], dtype=int64)"
      ]
     },
     "execution_count": 97,
     "metadata": {},
     "output_type": "execute_result"
    }
   ],
   "source": [
    "from sklearn.cluster import AgglomerativeClustering\n",
    "\n",
    "model = AgglomerativeClustering(N_CLUSTERS, linkage = 'ward')\n",
    "y_pred_ah = model.fit_predict(df_freq_reduced)\n",
    "y_pred_ah"
   ]
  },
  {
   "cell_type": "code",
   "execution_count": 98,
   "metadata": {},
   "outputs": [
    {
     "data": {
      "text/plain": [
       "<AxesSubplot:>"
      ]
     },
     "execution_count": 98,
     "metadata": {},
     "output_type": "execute_result"
    },
    {
     "data": {
      "image/png": "[encoded data removed]",
      "text/plain": [
       "<Figure size 432x288 with 1 Axes>"
      ]
     },
     "metadata": {
      "needs_background": "light"
     },
     "output_type": "display_data"
    }
   ],
   "source": [
    "df_mini['y_pred_ah'] = y_pred_ah\n",
    "\n",
    "df_mini['y_pred_ah'].value_counts().plot(kind = 'bar')"
   ]
  },
  {
   "cell_type": "markdown",
   "metadata": {},
   "source": [
    "# Agrupamento Espectral"
   ]
  },
  {
   "cell_type": "code",
   "execution_count": 99,
   "metadata": {},
   "outputs": [
    {
     "data": {
      "text/plain": [
       "array([1, 1, 1, ..., 2, 1, 1])"
      ]
     },
     "execution_count": 99,
     "metadata": {},
     "output_type": "execute_result"
    }
   ],
   "source": [
    "from sklearn.cluster import SpectralClustering\n",
    "\n",
    "model = SpectralClustering(n_clusters = N_CLUSTERS, affinity = 'nearest_neighbors', n_neighbors = 10)\n",
    "y_pred_sp = model.fit_predict(df_freq_reduced)\n",
    "y_pred_sp"
   ]
  },
  {
   "cell_type": "code",
   "execution_count": 100,
   "metadata": {},
   "outputs": [
    {
     "data": {
      "text/plain": [
       "<AxesSubplot:>"
      ]
     },
     "execution_count": 100,
     "metadata": {},
     "output_type": "execute_result"
    },
    {
     "data": {
      "image/png": "[encoded data removed]",
      "text/plain": [
       "<Figure size 432x288 with 1 Axes>"
      ]
     },
     "metadata": {
      "needs_background": "light"
     },
     "output_type": "display_data"
    }
   ],
   "source": [
    "df_mini['y_pred_sp'] = y_pred_sp\n",
    "\n",
    "df_mini['y_pred_sp'].value_counts().plot(kind = 'bar')"
   ]
  },
  {
   "cell_type": "markdown",
   "metadata": {},
   "source": [
    "# Evaluate our model"
   ]
  },
  {
   "cell_type": "code",
   "execution_count": 101,
   "metadata": {},
   "outputs": [
    {
     "data": {
      "text/plain": [
       "<AxesSubplot:>"
      ]
     },
     "execution_count": 101,
     "metadata": {},
     "output_type": "execute_result"
    },
    {
     "data": {
      "image/png": "[encoded data removed]",
      "text/plain": [
       "<Figure size 432x288 with 1 Axes>"
      ]
     },
     "metadata": {
      "needs_background": "light"
     },
     "output_type": "display_data"
    }
   ],
   "source": [
    "r = df_mini[df_mini.genre == 'children']\n",
    "r['pred_k_means'].value_counts().plot(kind = 'bar')"
   ]
  },
  {
   "cell_type": "code",
   "execution_count": 102,
   "metadata": {},
   "outputs": [
    {
     "data": {
      "text/plain": [
       "<AxesSubplot:>"
      ]
     },
     "execution_count": 102,
     "metadata": {},
     "output_type": "execute_result"
    },
    {
     "data": {
      "image/png": "[encoded data removed]",
      "text/plain": [
       "<Figure size 432x288 with 1 Axes>"
      ]
     },
     "metadata": {
      "needs_background": "light"
     },
     "output_type": "display_data"
    }
   ],
   "source": [
    "r = df_mini[df_mini.genre == 'romance']\n",
    "r['pred_k_means'].value_counts().plot(kind = 'bar')"
   ]
  }
 ],
 "metadata": {
  "interpreter": {
   "hash": "db8601ed9c6fae5528db3dc7d38939486afb7cc1a5a830919a58ef4bfd09cab6"
  },
  "kernelspec": {
   "display_name": "Python datascience",
   "language": "python",
   "name": "python3"
  },
  "language_info": {
   "codemirror_mode": {
    "name": "ipython",
    "version": 3
   },
   "file_extension": ".py",
   "mimetype": "text/x-python",
   "name": "python",
   "nbconvert_exporter": "python",
   "pygments_lexer": "ipython3",
   "version": "3.8.5"
  }
 },
 "nbformat": 4,
 "nbformat_minor": 1
}
